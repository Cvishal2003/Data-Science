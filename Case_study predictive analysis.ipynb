{
 "cells": [
  {
   "cell_type": "markdown",
   "id": "dd2c3c3b-a430-4cda-98a4-44eb705a6fd1",
   "metadata": {},
   "source": [
    "#  Predictive Modelling"
   ]
  },
  {
   "cell_type": "markdown",
   "id": "f60d6f02-875f-4b93-aec8-77748f051b21",
   "metadata": {},
   "source": [
    "## Linear Regression"
   ]
  },
  {
   "cell_type": "markdown",
   "id": "07c857c1-d0f2-4b85-bb57-f58bc7f2988e",
   "metadata": {},
   "source": [
    "## objective"
   ]
  },
  {
   "cell_type": "markdown",
   "id": "fb0f6afa-bc07-4d9f-a6ae-e82a2419fb50",
   "metadata": {},
   "source": [
    "### A straming company is focusing on the anime available in their portal and wants to identify the most important factors involved in rating an anime. As a data scientist, you are tasked with analyzing the portal's anime data and identifying the important factors by building a predictive model to predict the rating of an anime."
   ]
  },
  {
   "cell_type": "markdown",
   "id": "2eb67e74-8282-406e-8695-0d53e1a3a8df",
   "metadata": {},
   "source": [
    "## Data Dictionary"
   ]
  },
  {
   "cell_type": "markdown",
   "id": "01a63969-4190-4f97-89b3-ad8b848707a0",
   "metadata": {},
   "source": [
    "#### Each record in the database provides a description of an anime. A detailed data dictionary can be found below.\n",
    "#### 1. title: title of the anime\n",
    "#### 2. media Type: format of publication\n",
    "#### 3. eps: number of episodes (movies are considered 1 episode)\n",
    "#### 4. duration: duration of an episode in minutes\n",
    "#### 5. startYr: the year that airing started\n",
    "#### 6. finishYr: the year that airing finished\n",
    "#### 7. description: the synopsis of the plot\n",
    "#### 8. contentWarn: content warning\n",
    "#### 9. watched: number of users that completed it\n",
    "#### 10. watching: number of users that are watching it\n",
    "#### 11. rating: average user rating\n",
    "#### 12. votes: number of votes that contribute to the rating\n",
    "#### 13. studio_primary: studios responsible for creation\n",
    "#### 14. studios_colab: whether there was a collaboration between studios for anime production\n",
    "#### 15. genre: genre to which the anime belongs"
   ]
  },
  {
   "cell_type": "markdown",
   "id": "0a9495e0-538f-40c0-8d3c-16d28f1b4113",
   "metadata": {},
   "source": [
    "# Importing Libaries"
   ]
  },
  {
   "cell_type": "code",
   "execution_count": 2,
   "id": "a578b826-fc24-4700-9bf0-9900ab5f2d3c",
   "metadata": {},
   "outputs": [],
   "source": [
    "import numpy as np\n",
    "import pandas as pd\n",
    "import matplotlib.pyplot as plt\n",
    "import seaborn as sns\n",
    "from sklearn.model_selection import train_test_split\n",
    "import statsmodels.api as sm\n",
    "from sklearn.metrics import mean_absolute_error, mean_squared_error, r2_score"
   ]
  },
  {
   "cell_type": "markdown",
   "id": "06d578af-18a6-41c1-86e7-d3ca37db29d9",
   "metadata": {},
   "source": [
    "# Loading Dataset "
   ]
  },
  {
   "cell_type": "code",
   "execution_count": 4,
   "id": "36445c44-87d7-473b-aa36-a365b0a4d4e2",
   "metadata": {},
   "outputs": [],
   "source": [
    "df = pd.read_csv('/Users/vishal/Desktop/CSV files/anime_rating_dataset.csv')"
   ]
  },
  {
   "cell_type": "markdown",
   "id": "46793123-33f3-44d0-9075-0ba3e5efb335",
   "metadata": {},
   "source": [
    "### Displaying the first few rows of data set\n"
   ]
  },
  {
   "cell_type": "code",
   "execution_count": 6,
   "id": "784b17da-513b-4aee-82f2-cc2046ff7fd8",
   "metadata": {},
   "outputs": [
    {
     "data": {
      "text/html": [
       "<div>\n",
       "<style scoped>\n",
       "    .dataframe tbody tr th:only-of-type {\n",
       "        vertical-align: middle;\n",
       "    }\n",
       "\n",
       "    .dataframe tbody tr th {\n",
       "        vertical-align: top;\n",
       "    }\n",
       "\n",
       "    .dataframe thead th {\n",
       "        text-align: right;\n",
       "    }\n",
       "</style>\n",
       "<table border=\"1\" class=\"dataframe\">\n",
       "  <thead>\n",
       "    <tr style=\"text-align: right;\">\n",
       "      <th></th>\n",
       "      <th>title</th>\n",
       "      <th>mediaType</th>\n",
       "      <th>eps</th>\n",
       "      <th>duration</th>\n",
       "      <th>startYr</th>\n",
       "      <th>finishYr</th>\n",
       "      <th>description</th>\n",
       "      <th>contentWarn</th>\n",
       "      <th>watched</th>\n",
       "      <th>watching</th>\n",
       "      <th>rating</th>\n",
       "      <th>votes</th>\n",
       "      <th>studio_primary</th>\n",
       "      <th>studios_colab</th>\n",
       "      <th>genre</th>\n",
       "    </tr>\n",
       "  </thead>\n",
       "  <tbody>\n",
       "    <tr>\n",
       "      <th>0</th>\n",
       "      <td>Dragon Ball Z Movie 15: Resurrection 'F'</td>\n",
       "      <td>Movie</td>\n",
       "      <td>1</td>\n",
       "      <td>67.0</td>\n",
       "      <td>2015</td>\n",
       "      <td>2015</td>\n",
       "      <td>Even the complete obliteration of his physical...</td>\n",
       "      <td>No</td>\n",
       "      <td>4649</td>\n",
       "      <td>86</td>\n",
       "      <td>3.979</td>\n",
       "      <td>3100.0</td>\n",
       "      <td>Toei Animation</td>\n",
       "      <td>No</td>\n",
       "      <td>Other</td>\n",
       "    </tr>\n",
       "    <tr>\n",
       "      <th>1</th>\n",
       "      <td>Kuripuri*Kuripura</td>\n",
       "      <td>Movie</td>\n",
       "      <td>1</td>\n",
       "      <td>5.0</td>\n",
       "      <td>2008</td>\n",
       "      <td>2008</td>\n",
       "      <td>NaN</td>\n",
       "      <td>No</td>\n",
       "      <td>10</td>\n",
       "      <td>0</td>\n",
       "      <td>2.120</td>\n",
       "      <td>10.0</td>\n",
       "      <td>Others</td>\n",
       "      <td>No</td>\n",
       "      <td>Other</td>\n",
       "    </tr>\n",
       "    <tr>\n",
       "      <th>2</th>\n",
       "      <td>GJ-bu@</td>\n",
       "      <td>TV Special</td>\n",
       "      <td>1</td>\n",
       "      <td>46.0</td>\n",
       "      <td>2014</td>\n",
       "      <td>2014</td>\n",
       "      <td>The story is set during the spring vacation im...</td>\n",
       "      <td>No</td>\n",
       "      <td>1630</td>\n",
       "      <td>16</td>\n",
       "      <td>3.758</td>\n",
       "      <td>1103.0</td>\n",
       "      <td>Others</td>\n",
       "      <td>No</td>\n",
       "      <td>Other</td>\n",
       "    </tr>\n",
       "    <tr>\n",
       "      <th>3</th>\n",
       "      <td>Nausicaa of the Valley of the Wind</td>\n",
       "      <td>Movie</td>\n",
       "      <td>1</td>\n",
       "      <td>67.0</td>\n",
       "      <td>1984</td>\n",
       "      <td>1984</td>\n",
       "      <td>One thousand years after the Giant Warriors ca...</td>\n",
       "      <td>No</td>\n",
       "      <td>4649</td>\n",
       "      <td>184</td>\n",
       "      <td>4.444</td>\n",
       "      <td>3100.0</td>\n",
       "      <td>Others</td>\n",
       "      <td>No</td>\n",
       "      <td>Drama</td>\n",
       "    </tr>\n",
       "    <tr>\n",
       "      <th>4</th>\n",
       "      <td>Miru Tights Special</td>\n",
       "      <td>DVD Special</td>\n",
       "      <td>1</td>\n",
       "      <td>4.0</td>\n",
       "      <td>2019</td>\n",
       "      <td>2019</td>\n",
       "      <td>Yua is asked to model an illustrator's designs...</td>\n",
       "      <td>No</td>\n",
       "      <td>346</td>\n",
       "      <td>8</td>\n",
       "      <td>2.494</td>\n",
       "      <td>234.0</td>\n",
       "      <td>Others</td>\n",
       "      <td>No</td>\n",
       "      <td>Other</td>\n",
       "    </tr>\n",
       "  </tbody>\n",
       "</table>\n",
       "</div>"
      ],
      "text/plain": [
       "                                      title    mediaType  eps  duration  \\\n",
       "0  Dragon Ball Z Movie 15: Resurrection 'F'        Movie    1      67.0   \n",
       "1                         Kuripuri*Kuripura        Movie    1       5.0   \n",
       "2                                    GJ-bu@   TV Special    1      46.0   \n",
       "3        Nausicaa of the Valley of the Wind        Movie    1      67.0   \n",
       "4                       Miru Tights Special  DVD Special    1       4.0   \n",
       "\n",
       "   startYr  finishYr                                        description  \\\n",
       "0     2015      2015  Even the complete obliteration of his physical...   \n",
       "1     2008      2008                                                NaN   \n",
       "2     2014      2014  The story is set during the spring vacation im...   \n",
       "3     1984      1984  One thousand years after the Giant Warriors ca...   \n",
       "4     2019      2019  Yua is asked to model an illustrator's designs...   \n",
       "\n",
       "  contentWarn  watched  watching  rating   votes  studio_primary  \\\n",
       "0          No     4649        86   3.979  3100.0  Toei Animation   \n",
       "1          No       10         0   2.120    10.0          Others   \n",
       "2          No     1630        16   3.758  1103.0          Others   \n",
       "3          No     4649       184   4.444  3100.0          Others   \n",
       "4          No      346         8   2.494   234.0          Others   \n",
       "\n",
       "  studios_colab  genre  \n",
       "0            No  Other  \n",
       "1            No  Other  \n",
       "2            No  Other  \n",
       "3            No  Drama  \n",
       "4            No  Other  "
      ]
     },
     "execution_count": 6,
     "metadata": {},
     "output_type": "execute_result"
    }
   ],
   "source": [
    "df.head()"
   ]
  },
  {
   "cell_type": "markdown",
   "id": "7324b9af-b771-4bae-ba2d-7f986bc37e9d",
   "metadata": {},
   "source": [
    "### Checking the shape of the dataset"
   ]
  },
  {
   "cell_type": "code",
   "execution_count": 8,
   "id": "f22cf288-21ab-428f-8e05-e15cb8e211ba",
   "metadata": {},
   "outputs": [
    {
     "data": {
      "text/plain": [
       "(6523, 15)"
      ]
     },
     "execution_count": 8,
     "metadata": {},
     "output_type": "execute_result"
    }
   ],
   "source": [
    "df.shape"
   ]
  },
  {
   "cell_type": "markdown",
   "id": "334384ed-5d80-4d55-92b5-cb925ecdca49",
   "metadata": {},
   "source": [
    "#### • The dataset contains information (15 attributes) about 6523 anime"
   ]
  },
  {
   "cell_type": "markdown",
   "id": "0d655efb-b3e4-4fe5-8d89-0bb735a64cbd",
   "metadata": {},
   "source": [
    "### Checking the data types of the columns for the dataset"
   ]
  },
  {
   "cell_type": "code",
   "execution_count": 11,
   "id": "f58db1cc-8f3d-4c12-bb57-931cb8355ff2",
   "metadata": {},
   "outputs": [
    {
     "name": "stdout",
     "output_type": "stream",
     "text": [
      "<class 'pandas.core.frame.DataFrame'>\n",
      "RangeIndex: 6523 entries, 0 to 6522\n",
      "Data columns (total 15 columns):\n",
      " #   Column          Non-Null Count  Dtype  \n",
      "---  ------          --------------  -----  \n",
      " 0   title           6523 non-null   object \n",
      " 1   mediaType       6496 non-null   object \n",
      " 2   eps             6523 non-null   int64  \n",
      " 3   duration        6248 non-null   float64\n",
      " 4   startYr         6523 non-null   int64  \n",
      " 5   finishYr        6523 non-null   int64  \n",
      " 6   description     4114 non-null   object \n",
      " 7   contentWarn     6523 non-null   object \n",
      " 8   watched         6523 non-null   int64  \n",
      " 9   watching        6523 non-null   int64  \n",
      " 10  rating          6523 non-null   float64\n",
      " 11  votes           6496 non-null   float64\n",
      " 12  studio_primary  6523 non-null   object \n",
      " 13  studios_colab   6523 non-null   object \n",
      " 14  genre           6523 non-null   object \n",
      "dtypes: float64(3), int64(5), object(7)\n",
      "memory usage: 764.5+ KB\n"
     ]
    }
   ],
   "source": [
    "df.info()"
   ]
  },
  {
   "cell_type": "markdown",
   "id": "1d0b69c2-f748-45d2-be11-940d2dd1810e",
   "metadata": {},
   "source": [
    "#### • There are 8 numeric (float and int type) and 7 string (object type) columns in the data\n",
    "#### • The target variable is the rating of an anime, which is of float type"
   ]
  },
  {
   "cell_type": "markdown",
   "id": "f24f3a3b-7fb1-4681-93c6-9c3c72f7b5ef",
   "metadata": {},
   "source": [
    "# Statistical summary of the dataset"
   ]
  },
  {
   "cell_type": "code",
   "execution_count": 14,
   "id": "9990ff1a-bf2a-4594-9c19-36d3e26d0aca",
   "metadata": {},
   "outputs": [
    {
     "data": {
      "text/html": [
       "<div>\n",
       "<style scoped>\n",
       "    .dataframe tbody tr th:only-of-type {\n",
       "        vertical-align: middle;\n",
       "    }\n",
       "\n",
       "    .dataframe tbody tr th {\n",
       "        vertical-align: top;\n",
       "    }\n",
       "\n",
       "    .dataframe thead th {\n",
       "        text-align: right;\n",
       "    }\n",
       "</style>\n",
       "<table border=\"1\" class=\"dataframe\">\n",
       "  <thead>\n",
       "    <tr style=\"text-align: right;\">\n",
       "      <th></th>\n",
       "      <th>eps</th>\n",
       "      <th>duration</th>\n",
       "      <th>startYr</th>\n",
       "      <th>finishYr</th>\n",
       "      <th>watched</th>\n",
       "      <th>watching</th>\n",
       "      <th>rating</th>\n",
       "      <th>votes</th>\n",
       "    </tr>\n",
       "  </thead>\n",
       "  <tbody>\n",
       "    <tr>\n",
       "      <th>count</th>\n",
       "      <td>6523.000000</td>\n",
       "      <td>6248.000000</td>\n",
       "      <td>6523.000000</td>\n",
       "      <td>6523.000000</td>\n",
       "      <td>6523.000000</td>\n",
       "      <td>6523.000000</td>\n",
       "      <td>6523.000000</td>\n",
       "      <td>6496.000000</td>\n",
       "    </tr>\n",
       "    <tr>\n",
       "      <th>mean</th>\n",
       "      <td>8.716235</td>\n",
       "      <td>18.396287</td>\n",
       "      <td>2005.241147</td>\n",
       "      <td>2005.575349</td>\n",
       "      <td>1347.948643</td>\n",
       "      <td>57.445654</td>\n",
       "      <td>2.962553</td>\n",
       "      <td>906.253233</td>\n",
       "    </tr>\n",
       "    <tr>\n",
       "      <th>std</th>\n",
       "      <td>11.002479</td>\n",
       "      <td>20.949350</td>\n",
       "      <td>12.911035</td>\n",
       "      <td>12.568169</td>\n",
       "      <td>1737.138112</td>\n",
       "      <td>76.527405</td>\n",
       "      <td>0.760486</td>\n",
       "      <td>1171.677648</td>\n",
       "    </tr>\n",
       "    <tr>\n",
       "      <th>min</th>\n",
       "      <td>1.000000</td>\n",
       "      <td>1.000000</td>\n",
       "      <td>1967.000000</td>\n",
       "      <td>1970.000000</td>\n",
       "      <td>5.000000</td>\n",
       "      <td>0.000000</td>\n",
       "      <td>1.111000</td>\n",
       "      <td>10.000000</td>\n",
       "    </tr>\n",
       "    <tr>\n",
       "      <th>25%</th>\n",
       "      <td>1.000000</td>\n",
       "      <td>5.000000</td>\n",
       "      <td>2000.000000</td>\n",
       "      <td>2000.000000</td>\n",
       "      <td>56.000000</td>\n",
       "      <td>2.000000</td>\n",
       "      <td>2.371000</td>\n",
       "      <td>34.000000</td>\n",
       "    </tr>\n",
       "    <tr>\n",
       "      <th>50%</th>\n",
       "      <td>1.000000</td>\n",
       "      <td>7.000000</td>\n",
       "      <td>2010.000000</td>\n",
       "      <td>2010.000000</td>\n",
       "      <td>349.000000</td>\n",
       "      <td>13.000000</td>\n",
       "      <td>2.944000</td>\n",
       "      <td>227.500000</td>\n",
       "    </tr>\n",
       "    <tr>\n",
       "      <th>75%</th>\n",
       "      <td>12.000000</td>\n",
       "      <td>25.000000</td>\n",
       "      <td>2015.000000</td>\n",
       "      <td>2015.000000</td>\n",
       "      <td>2252.500000</td>\n",
       "      <td>98.000000</td>\n",
       "      <td>3.568000</td>\n",
       "      <td>1567.750000</td>\n",
       "    </tr>\n",
       "    <tr>\n",
       "      <th>max</th>\n",
       "      <td>34.000000</td>\n",
       "      <td>67.000000</td>\n",
       "      <td>2020.000000</td>\n",
       "      <td>2020.000000</td>\n",
       "      <td>4649.000000</td>\n",
       "      <td>199.000000</td>\n",
       "      <td>4.702000</td>\n",
       "      <td>3100.000000</td>\n",
       "    </tr>\n",
       "  </tbody>\n",
       "</table>\n",
       "</div>"
      ],
      "text/plain": [
       "               eps     duration      startYr     finishYr      watched  \\\n",
       "count  6523.000000  6248.000000  6523.000000  6523.000000  6523.000000   \n",
       "mean      8.716235    18.396287  2005.241147  2005.575349  1347.948643   \n",
       "std      11.002479    20.949350    12.911035    12.568169  1737.138112   \n",
       "min       1.000000     1.000000  1967.000000  1970.000000     5.000000   \n",
       "25%       1.000000     5.000000  2000.000000  2000.000000    56.000000   \n",
       "50%       1.000000     7.000000  2010.000000  2010.000000   349.000000   \n",
       "75%      12.000000    25.000000  2015.000000  2015.000000  2252.500000   \n",
       "max      34.000000    67.000000  2020.000000  2020.000000  4649.000000   \n",
       "\n",
       "          watching       rating        votes  \n",
       "count  6523.000000  6523.000000  6496.000000  \n",
       "mean     57.445654     2.962553   906.253233  \n",
       "std      76.527405     0.760486  1171.677648  \n",
       "min       0.000000     1.111000    10.000000  \n",
       "25%       2.000000     2.371000    34.000000  \n",
       "50%      13.000000     2.944000   227.500000  \n",
       "75%      98.000000     3.568000  1567.750000  \n",
       "max     199.000000     4.702000  3100.000000  "
      ]
     },
     "execution_count": 14,
     "metadata": {},
     "output_type": "execute_result"
    }
   ],
   "source": [
    "df.describe()"
   ]
  },
  {
   "cell_type": "markdown",
   "id": "63e559a5-5527-4e89-b737-7d205bfe8aec",
   "metadata": {},
   "source": [
    "#### • We can see that the anime ratings vary between 1.1 and 4.7, which suggests that the anime were rated on a scale of 0-5\n",
    "#### • The general rating of anime is 2.96\n",
    "#### • TV is the most occurring type of media.\n",
    "#### • The number of views for the anime in the data varies from 5 to ~5000\n",
    "#### • The number of votes received by an anime in the data varies from 10 to 3100"
   ]
  },
  {
   "cell_type": "markdown",
   "id": "15ddb263-363b-4bde-84ca-c99efdbedb40",
   "metadata": {},
   "source": [
    "# Checking for duplicate values"
   ]
  },
  {
   "cell_type": "code",
   "execution_count": 17,
   "id": "a5a6698c-156a-42ce-b0a4-b2b222c56fd7",
   "metadata": {},
   "outputs": [
    {
     "data": {
      "text/plain": [
       "0"
      ]
     },
     "execution_count": 17,
     "metadata": {},
     "output_type": "execute_result"
    }
   ],
   "source": [
    "df.duplicated().sum()"
   ]
  },
  {
   "cell_type": "markdown",
   "id": "e669dfd5-39b2-49c2-93d1-8c565f762e33",
   "metadata": {},
   "source": [
    "#### • There are no duplicate values in the data"
   ]
  },
  {
   "cell_type": "markdown",
   "id": "87eabf1d-2770-4d8d-84ba-2243d44fd928",
   "metadata": {},
   "source": [
    "# Checking for missing values"
   ]
  },
  {
   "cell_type": "code",
   "execution_count": 20,
   "id": "9072a98e-7455-4578-95cb-c559aca84e9d",
   "metadata": {},
   "outputs": [
    {
     "data": {
      "text/plain": [
       "title                0\n",
       "mediaType           27\n",
       "eps                  0\n",
       "duration           275\n",
       "startYr              0\n",
       "finishYr             0\n",
       "description       2409\n",
       "contentWarn          0\n",
       "watched              0\n",
       "watching             0\n",
       "rating               0\n",
       "votes               27\n",
       "studio_primary       0\n",
       "studios_colab        0\n",
       "genre                0\n",
       "dtype: int64"
      ]
     },
     "execution_count": 20,
     "metadata": {},
     "output_type": "execute_result"
    }
   ],
   "source": [
    "df.isnull().sum()"
   ]
  },
  {
   "cell_type": "markdown",
   "id": "2a1aaf45-c438-4e6e-8e66-bd86bd1e05aa",
   "metadata": {},
   "source": [
    "#### • There are missing values in many columns."
   ]
  },
  {
   "cell_type": "markdown",
   "id": "bed6c3c5-b06f-4e3a-a4f5-6b1b54cac46e",
   "metadata": {},
   "source": [
    "# Data Preprocessing \n",
    "\n"
   ]
  },
  {
   "cell_type": "code",
   "execution_count": 23,
   "id": "821df9d3-381c-440b-a6e4-bbf1c3ccaf34",
   "metadata": {},
   "outputs": [
    {
     "data": {
      "text/plain": [
       "title                0\n",
       "mediaType           27\n",
       "eps                  0\n",
       "duration           275\n",
       "startYr              0\n",
       "finishYr             0\n",
       "description       2409\n",
       "contentWarn          0\n",
       "watched              0\n",
       "watching             0\n",
       "rating               0\n",
       "votes               27\n",
       "studio_primary       0\n",
       "studios_colab        0\n",
       "genre                0\n",
       "dtype: int64"
      ]
     },
     "execution_count": 23,
     "metadata": {},
     "output_type": "execute_result"
    }
   ],
   "source": [
    "df.isnull().sum()"
   ]
  },
  {
   "cell_type": "markdown",
   "id": "453fc151-2048-4e09-8a2e-368c7bb5b006",
   "metadata": {},
   "source": [
    "#### Let's fix the missing values in the data.\n",
    "#### • For the variable mediaType, we will impute the missing values with 'Other' as the exact values for that category are not known\n",
    "#### • For the variables duration and votes, we will impute the missing values in each column with the median grouped by genre and mediaType as both the columns have skewed distributions"
   ]
  },
  {
   "cell_type": "code",
   "execution_count": 25,
   "id": "a97720c8-04b9-4049-80ae-0f8d98e692c5",
   "metadata": {},
   "outputs": [],
   "source": [
    "# we first create a copy of the data to avoid changes to it\n",
    "df1 = df.copy ()\n",
    "df1.mediaType.fillna(\"Other\", inplace=True)\n",
    "df1[\"duration\"] = df1[\"duration\"].fillna(\n",
    " value=df1.groupby([\"genre\", \"mediaType\"]) [\"duration\"].transform (\"median\")\n",
    ")\n",
    "\n",
    "df1[\"votes\"] = df1[\"votes\"].fillna(\n",
    "value=df1.groupby([\"genre\", \"mediaType\"]) [\"votes\"].transform(\"median\")\n",
    ")\n"
   ]
  },
  {
   "cell_type": "code",
   "execution_count": 26,
   "id": "4a0e8d02-8848-4459-ac43-5d5f456e00d7",
   "metadata": {},
   "outputs": [
    {
     "data": {
      "text/plain": [
       "title                0\n",
       "mediaType            0\n",
       "eps                  0\n",
       "duration             8\n",
       "startYr              0\n",
       "finishYr             0\n",
       "description       2409\n",
       "contentWarn          0\n",
       "watched              0\n",
       "watching             0\n",
       "rating               0\n",
       "votes                0\n",
       "studio_primary       0\n",
       "studios_colab        0\n",
       "genre                0\n",
       "dtype: int64"
      ]
     },
     "execution_count": 26,
     "metadata": {},
     "output_type": "execute_result"
    }
   ],
   "source": [
    "df1.isnull().sum()"
   ]
  },
  {
   "cell_type": "markdown",
   "id": "cac94124-a351-413b-9e89-16869f7fa905",
   "metadata": {},
   "source": [
    "#### • We will impute the remaining missing values in the duration column with the median grouped by genre"
   ]
  },
  {
   "cell_type": "code",
   "execution_count": 28,
   "id": "78917602-9a4b-4489-9b54-623597b676dc",
   "metadata": {},
   "outputs": [],
   "source": [
    "df1[\"duration\"] = df1[\"duration\"].fillna(\n",
    "value=df1.groupby([\"genre\"]) [\"duration\"]. transform(\"median\")\n",
    ")\n"
   ]
  },
  {
   "cell_type": "code",
   "execution_count": 29,
   "id": "d2d2044a-0f4b-4d78-840a-ecf7f0579342",
   "metadata": {},
   "outputs": [
    {
     "data": {
      "text/plain": [
       "title                0\n",
       "mediaType            0\n",
       "eps                  0\n",
       "duration             0\n",
       "startYr              0\n",
       "finishYr             0\n",
       "description       2409\n",
       "contentWarn          0\n",
       "watched              0\n",
       "watching             0\n",
       "rating               0\n",
       "votes                0\n",
       "studio_primary       0\n",
       "studios_colab        0\n",
       "genre                0\n",
       "dtype: int64"
      ]
     },
     "execution_count": 29,
     "metadata": {},
     "output_type": "execute_result"
    }
   ],
   "source": [
    "df1.isnull().sum()"
   ]
  },
  {
   "cell_type": "markdown",
   "id": "c348c061-869f-4773-b261-c7e6ad0ec1e7",
   "metadata": {},
   "source": [
    "#### • All the missing values have been treated."
   ]
  },
  {
   "cell_type": "markdown",
   "id": "56cabc73-6a80-4707-ac50-8bc08c3e20ac",
   "metadata": {},
   "source": [
    "# Feature Engineering\n",
    "\n"
   ]
  },
  {
   "cell_type": "markdown",
   "id": "1897fa6b-1823-4b2e-b0a7-b01bb1f9483b",
   "metadata": {},
   "source": [
    "#### • Let's create a new feature years_running by taking the difference between finishYr and startyr columns\n",
    "#### • We will drop the original columns once the new feature is created as the year values themselves are not numerical in nature"
   ]
  },
  {
   "cell_type": "code",
   "execution_count": 33,
   "id": "f5624851-4cf8-49a4-9150-33af5e83348f",
   "metadata": {},
   "outputs": [
    {
     "data": {
      "text/html": [
       "<div>\n",
       "<style scoped>\n",
       "    .dataframe tbody tr th:only-of-type {\n",
       "        vertical-align: middle;\n",
       "    }\n",
       "\n",
       "    .dataframe tbody tr th {\n",
       "        vertical-align: top;\n",
       "    }\n",
       "\n",
       "    .dataframe thead th {\n",
       "        text-align: right;\n",
       "    }\n",
       "</style>\n",
       "<table border=\"1\" class=\"dataframe\">\n",
       "  <thead>\n",
       "    <tr style=\"text-align: right;\">\n",
       "      <th></th>\n",
       "      <th>title</th>\n",
       "      <th>mediaType</th>\n",
       "      <th>eps</th>\n",
       "      <th>duration</th>\n",
       "      <th>description</th>\n",
       "      <th>contentWarn</th>\n",
       "      <th>watched</th>\n",
       "      <th>watching</th>\n",
       "      <th>rating</th>\n",
       "      <th>votes</th>\n",
       "      <th>studio_primary</th>\n",
       "      <th>studios_colab</th>\n",
       "      <th>genre</th>\n",
       "      <th>years_running</th>\n",
       "    </tr>\n",
       "  </thead>\n",
       "  <tbody>\n",
       "    <tr>\n",
       "      <th>0</th>\n",
       "      <td>Dragon Ball Z Movie 15: Resurrection 'F'</td>\n",
       "      <td>Movie</td>\n",
       "      <td>1</td>\n",
       "      <td>67.0</td>\n",
       "      <td>Even the complete obliteration of his physical...</td>\n",
       "      <td>No</td>\n",
       "      <td>4649</td>\n",
       "      <td>86</td>\n",
       "      <td>3.979</td>\n",
       "      <td>3100.0</td>\n",
       "      <td>Toei Animation</td>\n",
       "      <td>No</td>\n",
       "      <td>Other</td>\n",
       "      <td>0</td>\n",
       "    </tr>\n",
       "    <tr>\n",
       "      <th>1</th>\n",
       "      <td>Kuripuri*Kuripura</td>\n",
       "      <td>Movie</td>\n",
       "      <td>1</td>\n",
       "      <td>5.0</td>\n",
       "      <td>NaN</td>\n",
       "      <td>No</td>\n",
       "      <td>10</td>\n",
       "      <td>0</td>\n",
       "      <td>2.120</td>\n",
       "      <td>10.0</td>\n",
       "      <td>Others</td>\n",
       "      <td>No</td>\n",
       "      <td>Other</td>\n",
       "      <td>0</td>\n",
       "    </tr>\n",
       "    <tr>\n",
       "      <th>2</th>\n",
       "      <td>GJ-bu@</td>\n",
       "      <td>TV Special</td>\n",
       "      <td>1</td>\n",
       "      <td>46.0</td>\n",
       "      <td>The story is set during the spring vacation im...</td>\n",
       "      <td>No</td>\n",
       "      <td>1630</td>\n",
       "      <td>16</td>\n",
       "      <td>3.758</td>\n",
       "      <td>1103.0</td>\n",
       "      <td>Others</td>\n",
       "      <td>No</td>\n",
       "      <td>Other</td>\n",
       "      <td>0</td>\n",
       "    </tr>\n",
       "    <tr>\n",
       "      <th>3</th>\n",
       "      <td>Nausicaa of the Valley of the Wind</td>\n",
       "      <td>Movie</td>\n",
       "      <td>1</td>\n",
       "      <td>67.0</td>\n",
       "      <td>One thousand years after the Giant Warriors ca...</td>\n",
       "      <td>No</td>\n",
       "      <td>4649</td>\n",
       "      <td>184</td>\n",
       "      <td>4.444</td>\n",
       "      <td>3100.0</td>\n",
       "      <td>Others</td>\n",
       "      <td>No</td>\n",
       "      <td>Drama</td>\n",
       "      <td>0</td>\n",
       "    </tr>\n",
       "    <tr>\n",
       "      <th>4</th>\n",
       "      <td>Miru Tights Special</td>\n",
       "      <td>DVD Special</td>\n",
       "      <td>1</td>\n",
       "      <td>4.0</td>\n",
       "      <td>Yua is asked to model an illustrator's designs...</td>\n",
       "      <td>No</td>\n",
       "      <td>346</td>\n",
       "      <td>8</td>\n",
       "      <td>2.494</td>\n",
       "      <td>234.0</td>\n",
       "      <td>Others</td>\n",
       "      <td>No</td>\n",
       "      <td>Other</td>\n",
       "      <td>0</td>\n",
       "    </tr>\n",
       "  </tbody>\n",
       "</table>\n",
       "</div>"
      ],
      "text/plain": [
       "                                      title    mediaType  eps  duration  \\\n",
       "0  Dragon Ball Z Movie 15: Resurrection 'F'        Movie    1      67.0   \n",
       "1                         Kuripuri*Kuripura        Movie    1       5.0   \n",
       "2                                    GJ-bu@   TV Special    1      46.0   \n",
       "3        Nausicaa of the Valley of the Wind        Movie    1      67.0   \n",
       "4                       Miru Tights Special  DVD Special    1       4.0   \n",
       "\n",
       "                                         description contentWarn  watched  \\\n",
       "0  Even the complete obliteration of his physical...          No     4649   \n",
       "1                                                NaN          No       10   \n",
       "2  The story is set during the spring vacation im...          No     1630   \n",
       "3  One thousand years after the Giant Warriors ca...          No     4649   \n",
       "4  Yua is asked to model an illustrator's designs...          No      346   \n",
       "\n",
       "   watching  rating   votes  studio_primary studios_colab  genre  \\\n",
       "0        86   3.979  3100.0  Toei Animation            No  Other   \n",
       "1         0   2.120    10.0          Others            No  Other   \n",
       "2        16   3.758  1103.0          Others            No  Other   \n",
       "3       184   4.444  3100.0          Others            No  Drama   \n",
       "4         8   2.494   234.0          Others            No  Other   \n",
       "\n",
       "   years_running  \n",
       "0              0  \n",
       "1              0  \n",
       "2              0  \n",
       "3              0  \n",
       "4              0  "
      ]
     },
     "execution_count": 33,
     "metadata": {},
     "output_type": "execute_result"
    }
   ],
   "source": [
    "df1[\"years_running\"] = df1[\"finishYr\"] - df1[\"startYr\"]\n",
    "df1.drop([\"startYr\"\n",
    ", \"finishYr\"], axis=1, inplace=True)\n",
    "df1. head()"
   ]
  },
  {
   "cell_type": "markdown",
   "id": "7fdc5fd3-50ec-40b6-a49a-74787a86ae08",
   "metadata": {},
   "source": [
    "# Outlier detection"
   ]
  },
  {
   "cell_type": "code",
   "execution_count": 35,
   "id": "09d5838e-7a28-4e32-99d7-a42cf97dd7fd",
   "metadata": {},
   "outputs": [
    {
     "data": {
      "image/png": "[encoded data removed]",
      "text/plain": [
       "<Figure size 1500x1000 with 7 Axes>"
      ]
     },
     "metadata": {},
     "output_type": "display_data"
    }
   ],
   "source": [
    "# outlier detection using boxplot\n",
    "num_cols = df1. select_dtypes(include=np.number).columns.tolist()\n",
    "plt.figure(figsize=(15, 10))\n",
    "for i, variable in enumerate(num_cols) :\n",
    " plt.subplot (3, 3, i + 1)\n",
    " sns.boxplot(data=df1, x=variable)\n",
    " plt.tight_layout (pad=2)\n",
    "plt.show()"
   ]
  },
  {
   "cell_type": "markdown",
   "id": "beb2bd0a-68a8-494d-b3ae-5362cf278fd5",
   "metadata": {},
   "source": [
    "#### • There are quite a few outliers in the data\n",
    "#### • However, we will not treat them as they are proper values\n",
    "#### • We will drop the columns title and description as they contain a lot of text and too many unique values, and can be excluded from modeling"
   ]
  },
  {
   "cell_type": "code",
   "execution_count": 37,
   "id": "2de684fe-f85d-41e7-8fe4-13a2c26fdab2",
   "metadata": {},
   "outputs": [],
   "source": [
    "df1.drop([\"title\", \"description\"], axis=1, inplace=True)"
   ]
  },
  {
   "cell_type": "code",
   "execution_count": 38,
   "id": "1ef2da1c-6d50-4ad6-9219-e23ec87004c6",
   "metadata": {},
   "outputs": [
    {
     "data": {
      "text/html": [
       "<div>\n",
       "<style scoped>\n",
       "    .dataframe tbody tr th:only-of-type {\n",
       "        vertical-align: middle;\n",
       "    }\n",
       "\n",
       "    .dataframe tbody tr th {\n",
       "        vertical-align: top;\n",
       "    }\n",
       "\n",
       "    .dataframe thead th {\n",
       "        text-align: right;\n",
       "    }\n",
       "</style>\n",
       "<table border=\"1\" class=\"dataframe\">\n",
       "  <thead>\n",
       "    <tr style=\"text-align: right;\">\n",
       "      <th></th>\n",
       "      <th>mediaType</th>\n",
       "      <th>eps</th>\n",
       "      <th>duration</th>\n",
       "      <th>contentWarn</th>\n",
       "      <th>watched</th>\n",
       "      <th>watching</th>\n",
       "      <th>rating</th>\n",
       "      <th>votes</th>\n",
       "      <th>studio_primary</th>\n",
       "      <th>studios_colab</th>\n",
       "      <th>genre</th>\n",
       "      <th>years_running</th>\n",
       "    </tr>\n",
       "  </thead>\n",
       "  <tbody>\n",
       "    <tr>\n",
       "      <th>0</th>\n",
       "      <td>Movie</td>\n",
       "      <td>1</td>\n",
       "      <td>67.0</td>\n",
       "      <td>No</td>\n",
       "      <td>4649</td>\n",
       "      <td>86</td>\n",
       "      <td>3.979</td>\n",
       "      <td>3100.0</td>\n",
       "      <td>Toei Animation</td>\n",
       "      <td>No</td>\n",
       "      <td>Other</td>\n",
       "      <td>0</td>\n",
       "    </tr>\n",
       "    <tr>\n",
       "      <th>1</th>\n",
       "      <td>Movie</td>\n",
       "      <td>1</td>\n",
       "      <td>5.0</td>\n",
       "      <td>No</td>\n",
       "      <td>10</td>\n",
       "      <td>0</td>\n",
       "      <td>2.120</td>\n",
       "      <td>10.0</td>\n",
       "      <td>Others</td>\n",
       "      <td>No</td>\n",
       "      <td>Other</td>\n",
       "      <td>0</td>\n",
       "    </tr>\n",
       "    <tr>\n",
       "      <th>2</th>\n",
       "      <td>TV Special</td>\n",
       "      <td>1</td>\n",
       "      <td>46.0</td>\n",
       "      <td>No</td>\n",
       "      <td>1630</td>\n",
       "      <td>16</td>\n",
       "      <td>3.758</td>\n",
       "      <td>1103.0</td>\n",
       "      <td>Others</td>\n",
       "      <td>No</td>\n",
       "      <td>Other</td>\n",
       "      <td>0</td>\n",
       "    </tr>\n",
       "    <tr>\n",
       "      <th>3</th>\n",
       "      <td>Movie</td>\n",
       "      <td>1</td>\n",
       "      <td>67.0</td>\n",
       "      <td>No</td>\n",
       "      <td>4649</td>\n",
       "      <td>184</td>\n",
       "      <td>4.444</td>\n",
       "      <td>3100.0</td>\n",
       "      <td>Others</td>\n",
       "      <td>No</td>\n",
       "      <td>Drama</td>\n",
       "      <td>0</td>\n",
       "    </tr>\n",
       "    <tr>\n",
       "      <th>4</th>\n",
       "      <td>DVD Special</td>\n",
       "      <td>1</td>\n",
       "      <td>4.0</td>\n",
       "      <td>No</td>\n",
       "      <td>346</td>\n",
       "      <td>8</td>\n",
       "      <td>2.494</td>\n",
       "      <td>234.0</td>\n",
       "      <td>Others</td>\n",
       "      <td>No</td>\n",
       "      <td>Other</td>\n",
       "      <td>0</td>\n",
       "    </tr>\n",
       "  </tbody>\n",
       "</table>\n",
       "</div>"
      ],
      "text/plain": [
       "     mediaType  eps  duration contentWarn  watched  watching  rating   votes  \\\n",
       "0        Movie    1      67.0          No     4649        86   3.979  3100.0   \n",
       "1        Movie    1       5.0          No       10         0   2.120    10.0   \n",
       "2   TV Special    1      46.0          No     1630        16   3.758  1103.0   \n",
       "3        Movie    1      67.0          No     4649       184   4.444  3100.0   \n",
       "4  DVD Special    1       4.0          No      346         8   2.494   234.0   \n",
       "\n",
       "   studio_primary studios_colab  genre  years_running  \n",
       "0  Toei Animation            No  Other              0  \n",
       "1          Others            No  Other              0  \n",
       "2          Others            No  Other              0  \n",
       "3          Others            No  Drama              0  \n",
       "4          Others            No  Other              0  "
      ]
     },
     "execution_count": 38,
     "metadata": {},
     "output_type": "execute_result"
    }
   ],
   "source": [
    "df1.head()"
   ]
  },
  {
   "cell_type": "markdown",
   "id": "9fce289e-b7fb-4a82-8d83-8890eb2075dc",
   "metadata": {},
   "source": [
    "# Data Preparation for modeling"
   ]
  },
  {
   "cell_type": "markdown",
   "id": "853b5f88-59ea-4582-b0d1-b83e07edf979",
   "metadata": {},
   "source": [
    "#### • We want to predict the rating of an anime\n",
    "#### • Before we proceed to build a model, we'll have to encode categorical features\n",
    "#### • We'll split the data into train and test to be able to evaluate the model that we build on the train data\n",
    "#### • We will build a Linear Regression model using the train data and then check it's performance"
   ]
  },
  {
   "cell_type": "code",
   "execution_count": 41,
   "id": "096fb0ff-5d8f-46c6-90f5-80f1b524e928",
   "metadata": {},
   "outputs": [],
   "source": [
    "df2=df1.copy()"
   ]
  },
  {
   "cell_type": "code",
   "execution_count": 42,
   "id": "f9c508cf-423c-4567-9518-822d7f0e654b",
   "metadata": {},
   "outputs": [
    {
     "data": {
      "text/html": [
       "<div>\n",
       "<style scoped>\n",
       "    .dataframe tbody tr th:only-of-type {\n",
       "        vertical-align: middle;\n",
       "    }\n",
       "\n",
       "    .dataframe tbody tr th {\n",
       "        vertical-align: top;\n",
       "    }\n",
       "\n",
       "    .dataframe thead th {\n",
       "        text-align: right;\n",
       "    }\n",
       "</style>\n",
       "<table border=\"1\" class=\"dataframe\">\n",
       "  <thead>\n",
       "    <tr style=\"text-align: right;\">\n",
       "      <th></th>\n",
       "      <th>const</th>\n",
       "      <th>eps</th>\n",
       "      <th>duration</th>\n",
       "      <th>watched</th>\n",
       "      <th>watching</th>\n",
       "      <th>votes</th>\n",
       "      <th>years_running</th>\n",
       "      <th>mediaType_Movie</th>\n",
       "      <th>mediaType_Music Video</th>\n",
       "      <th>mediaType_OVA</th>\n",
       "      <th>...</th>\n",
       "      <th>studio_primary_Toei Animation</th>\n",
       "      <th>studios_colab_Yes</th>\n",
       "      <th>genre_Adventure</th>\n",
       "      <th>genre_Based on a Manga</th>\n",
       "      <th>genre_Comedy</th>\n",
       "      <th>genre_Drama</th>\n",
       "      <th>genre_Fantasy</th>\n",
       "      <th>genre_Other</th>\n",
       "      <th>genre_Romance</th>\n",
       "      <th>genre_Sci Fi</th>\n",
       "    </tr>\n",
       "  </thead>\n",
       "  <tbody>\n",
       "    <tr>\n",
       "      <th>0</th>\n",
       "      <td>1.0</td>\n",
       "      <td>1</td>\n",
       "      <td>67.0</td>\n",
       "      <td>4649</td>\n",
       "      <td>86</td>\n",
       "      <td>3100.0</td>\n",
       "      <td>0</td>\n",
       "      <td>True</td>\n",
       "      <td>False</td>\n",
       "      <td>False</td>\n",
       "      <td>...</td>\n",
       "      <td>True</td>\n",
       "      <td>False</td>\n",
       "      <td>False</td>\n",
       "      <td>False</td>\n",
       "      <td>False</td>\n",
       "      <td>False</td>\n",
       "      <td>False</td>\n",
       "      <td>True</td>\n",
       "      <td>False</td>\n",
       "      <td>False</td>\n",
       "    </tr>\n",
       "    <tr>\n",
       "      <th>1</th>\n",
       "      <td>1.0</td>\n",
       "      <td>1</td>\n",
       "      <td>5.0</td>\n",
       "      <td>10</td>\n",
       "      <td>0</td>\n",
       "      <td>10.0</td>\n",
       "      <td>0</td>\n",
       "      <td>True</td>\n",
       "      <td>False</td>\n",
       "      <td>False</td>\n",
       "      <td>...</td>\n",
       "      <td>False</td>\n",
       "      <td>False</td>\n",
       "      <td>False</td>\n",
       "      <td>False</td>\n",
       "      <td>False</td>\n",
       "      <td>False</td>\n",
       "      <td>False</td>\n",
       "      <td>True</td>\n",
       "      <td>False</td>\n",
       "      <td>False</td>\n",
       "    </tr>\n",
       "    <tr>\n",
       "      <th>2</th>\n",
       "      <td>1.0</td>\n",
       "      <td>1</td>\n",
       "      <td>46.0</td>\n",
       "      <td>1630</td>\n",
       "      <td>16</td>\n",
       "      <td>1103.0</td>\n",
       "      <td>0</td>\n",
       "      <td>False</td>\n",
       "      <td>False</td>\n",
       "      <td>False</td>\n",
       "      <td>...</td>\n",
       "      <td>False</td>\n",
       "      <td>False</td>\n",
       "      <td>False</td>\n",
       "      <td>False</td>\n",
       "      <td>False</td>\n",
       "      <td>False</td>\n",
       "      <td>False</td>\n",
       "      <td>True</td>\n",
       "      <td>False</td>\n",
       "      <td>False</td>\n",
       "    </tr>\n",
       "    <tr>\n",
       "      <th>3</th>\n",
       "      <td>1.0</td>\n",
       "      <td>1</td>\n",
       "      <td>67.0</td>\n",
       "      <td>4649</td>\n",
       "      <td>184</td>\n",
       "      <td>3100.0</td>\n",
       "      <td>0</td>\n",
       "      <td>True</td>\n",
       "      <td>False</td>\n",
       "      <td>False</td>\n",
       "      <td>...</td>\n",
       "      <td>False</td>\n",
       "      <td>False</td>\n",
       "      <td>False</td>\n",
       "      <td>False</td>\n",
       "      <td>False</td>\n",
       "      <td>True</td>\n",
       "      <td>False</td>\n",
       "      <td>False</td>\n",
       "      <td>False</td>\n",
       "      <td>False</td>\n",
       "    </tr>\n",
       "    <tr>\n",
       "      <th>4</th>\n",
       "      <td>1.0</td>\n",
       "      <td>1</td>\n",
       "      <td>4.0</td>\n",
       "      <td>346</td>\n",
       "      <td>8</td>\n",
       "      <td>234.0</td>\n",
       "      <td>0</td>\n",
       "      <td>False</td>\n",
       "      <td>False</td>\n",
       "      <td>False</td>\n",
       "      <td>...</td>\n",
       "      <td>False</td>\n",
       "      <td>False</td>\n",
       "      <td>False</td>\n",
       "      <td>False</td>\n",
       "      <td>False</td>\n",
       "      <td>False</td>\n",
       "      <td>False</td>\n",
       "      <td>True</td>\n",
       "      <td>False</td>\n",
       "      <td>False</td>\n",
       "    </tr>\n",
       "  </tbody>\n",
       "</table>\n",
       "<p>5 rows × 34 columns</p>\n",
       "</div>"
      ],
      "text/plain": [
       "   const  eps  duration  watched  watching   votes  years_running  \\\n",
       "0    1.0    1      67.0     4649        86  3100.0              0   \n",
       "1    1.0    1       5.0       10         0    10.0              0   \n",
       "2    1.0    1      46.0     1630        16  1103.0              0   \n",
       "3    1.0    1      67.0     4649       184  3100.0              0   \n",
       "4    1.0    1       4.0      346         8   234.0              0   \n",
       "\n",
       "   mediaType_Movie  mediaType_Music Video  mediaType_OVA  ...  \\\n",
       "0             True                  False          False  ...   \n",
       "1             True                  False          False  ...   \n",
       "2            False                  False          False  ...   \n",
       "3             True                  False          False  ...   \n",
       "4            False                  False          False  ...   \n",
       "\n",
       "   studio_primary_Toei Animation  studios_colab_Yes  genre_Adventure  \\\n",
       "0                           True              False            False   \n",
       "1                          False              False            False   \n",
       "2                          False              False            False   \n",
       "3                          False              False            False   \n",
       "4                          False              False            False   \n",
       "\n",
       "   genre_Based on a Manga  genre_Comedy  genre_Drama  genre_Fantasy  \\\n",
       "0                   False         False        False          False   \n",
       "1                   False         False        False          False   \n",
       "2                   False         False        False          False   \n",
       "3                   False         False         True          False   \n",
       "4                   False         False        False          False   \n",
       "\n",
       "   genre_Other  genre_Romance  genre_Sci Fi  \n",
       "0         True          False         False  \n",
       "1         True          False         False  \n",
       "2         True          False         False  \n",
       "3        False          False         False  \n",
       "4         True          False         False  \n",
       "\n",
       "[5 rows x 34 columns]"
      ]
     },
     "execution_count": 42,
     "metadata": {},
     "output_type": "execute_result"
    }
   ],
   "source": [
    "# defining X and y variables\n",
    "X = df2.drop([\"rating\"], axis=1)\n",
    "y = df2[\"rating\"]\n",
    "\n",
    "# let's add the intercept to data\n",
    "X = sm.add_constant(X)  # Corrected this line\n",
    "\n",
    "# creating dummy variables\n",
    "X = pd.get_dummies(\n",
    " X,\n",
    " columns=X.select_dtypes(include=[\"object\", \"category\"]).columns.tolist(),\n",
    " drop_first=True\n",
    ")\n",
    "X.head()\n"
   ]
  },
  {
   "cell_type": "code",
   "execution_count": 43,
   "id": "1621853b-d83c-4ce9-9edd-ceee5da7294b",
   "metadata": {},
   "outputs": [
    {
     "data": {
      "text/html": [
       "<div>\n",
       "<style scoped>\n",
       "    .dataframe tbody tr th:only-of-type {\n",
       "        vertical-align: middle;\n",
       "    }\n",
       "\n",
       "    .dataframe tbody tr th {\n",
       "        vertical-align: top;\n",
       "    }\n",
       "\n",
       "    .dataframe thead th {\n",
       "        text-align: right;\n",
       "    }\n",
       "</style>\n",
       "<table border=\"1\" class=\"dataframe\">\n",
       "  <thead>\n",
       "    <tr style=\"text-align: right;\">\n",
       "      <th></th>\n",
       "      <th>const</th>\n",
       "      <th>eps</th>\n",
       "      <th>duration</th>\n",
       "      <th>watched</th>\n",
       "      <th>watching</th>\n",
       "      <th>votes</th>\n",
       "      <th>years_running</th>\n",
       "      <th>mediaType_Movie</th>\n",
       "      <th>mediaType_Music Video</th>\n",
       "      <th>mediaType_OVA</th>\n",
       "      <th>...</th>\n",
       "      <th>studio_primary_Toei Animation</th>\n",
       "      <th>studios_colab_Yes</th>\n",
       "      <th>genre_Adventure</th>\n",
       "      <th>genre_Based on a Manga</th>\n",
       "      <th>genre_Comedy</th>\n",
       "      <th>genre_Drama</th>\n",
       "      <th>genre_Fantasy</th>\n",
       "      <th>genre_Other</th>\n",
       "      <th>genre_Romance</th>\n",
       "      <th>genre_Sci Fi</th>\n",
       "    </tr>\n",
       "  </thead>\n",
       "  <tbody>\n",
       "    <tr>\n",
       "      <th>0</th>\n",
       "      <td>1.0</td>\n",
       "      <td>1</td>\n",
       "      <td>67.0</td>\n",
       "      <td>4649</td>\n",
       "      <td>86</td>\n",
       "      <td>3100.0</td>\n",
       "      <td>0</td>\n",
       "      <td>True</td>\n",
       "      <td>False</td>\n",
       "      <td>False</td>\n",
       "      <td>...</td>\n",
       "      <td>True</td>\n",
       "      <td>False</td>\n",
       "      <td>False</td>\n",
       "      <td>False</td>\n",
       "      <td>False</td>\n",
       "      <td>False</td>\n",
       "      <td>False</td>\n",
       "      <td>True</td>\n",
       "      <td>False</td>\n",
       "      <td>False</td>\n",
       "    </tr>\n",
       "    <tr>\n",
       "      <th>1</th>\n",
       "      <td>1.0</td>\n",
       "      <td>1</td>\n",
       "      <td>5.0</td>\n",
       "      <td>10</td>\n",
       "      <td>0</td>\n",
       "      <td>10.0</td>\n",
       "      <td>0</td>\n",
       "      <td>True</td>\n",
       "      <td>False</td>\n",
       "      <td>False</td>\n",
       "      <td>...</td>\n",
       "      <td>False</td>\n",
       "      <td>False</td>\n",
       "      <td>False</td>\n",
       "      <td>False</td>\n",
       "      <td>False</td>\n",
       "      <td>False</td>\n",
       "      <td>False</td>\n",
       "      <td>True</td>\n",
       "      <td>False</td>\n",
       "      <td>False</td>\n",
       "    </tr>\n",
       "    <tr>\n",
       "      <th>2</th>\n",
       "      <td>1.0</td>\n",
       "      <td>1</td>\n",
       "      <td>46.0</td>\n",
       "      <td>1630</td>\n",
       "      <td>16</td>\n",
       "      <td>1103.0</td>\n",
       "      <td>0</td>\n",
       "      <td>False</td>\n",
       "      <td>False</td>\n",
       "      <td>False</td>\n",
       "      <td>...</td>\n",
       "      <td>False</td>\n",
       "      <td>False</td>\n",
       "      <td>False</td>\n",
       "      <td>False</td>\n",
       "      <td>False</td>\n",
       "      <td>False</td>\n",
       "      <td>False</td>\n",
       "      <td>True</td>\n",
       "      <td>False</td>\n",
       "      <td>False</td>\n",
       "    </tr>\n",
       "    <tr>\n",
       "      <th>3</th>\n",
       "      <td>1.0</td>\n",
       "      <td>1</td>\n",
       "      <td>67.0</td>\n",
       "      <td>4649</td>\n",
       "      <td>184</td>\n",
       "      <td>3100.0</td>\n",
       "      <td>0</td>\n",
       "      <td>True</td>\n",
       "      <td>False</td>\n",
       "      <td>False</td>\n",
       "      <td>...</td>\n",
       "      <td>False</td>\n",
       "      <td>False</td>\n",
       "      <td>False</td>\n",
       "      <td>False</td>\n",
       "      <td>False</td>\n",
       "      <td>True</td>\n",
       "      <td>False</td>\n",
       "      <td>False</td>\n",
       "      <td>False</td>\n",
       "      <td>False</td>\n",
       "    </tr>\n",
       "    <tr>\n",
       "      <th>4</th>\n",
       "      <td>1.0</td>\n",
       "      <td>1</td>\n",
       "      <td>4.0</td>\n",
       "      <td>346</td>\n",
       "      <td>8</td>\n",
       "      <td>234.0</td>\n",
       "      <td>0</td>\n",
       "      <td>False</td>\n",
       "      <td>False</td>\n",
       "      <td>False</td>\n",
       "      <td>...</td>\n",
       "      <td>False</td>\n",
       "      <td>False</td>\n",
       "      <td>False</td>\n",
       "      <td>False</td>\n",
       "      <td>False</td>\n",
       "      <td>False</td>\n",
       "      <td>False</td>\n",
       "      <td>True</td>\n",
       "      <td>False</td>\n",
       "      <td>False</td>\n",
       "    </tr>\n",
       "  </tbody>\n",
       "</table>\n",
       "<p>5 rows × 34 columns</p>\n",
       "</div>"
      ],
      "text/plain": [
       "   const  eps  duration  watched  watching   votes  years_running  \\\n",
       "0    1.0    1      67.0     4649        86  3100.0              0   \n",
       "1    1.0    1       5.0       10         0    10.0              0   \n",
       "2    1.0    1      46.0     1630        16  1103.0              0   \n",
       "3    1.0    1      67.0     4649       184  3100.0              0   \n",
       "4    1.0    1       4.0      346         8   234.0              0   \n",
       "\n",
       "   mediaType_Movie  mediaType_Music Video  mediaType_OVA  ...  \\\n",
       "0             True                  False          False  ...   \n",
       "1             True                  False          False  ...   \n",
       "2            False                  False          False  ...   \n",
       "3             True                  False          False  ...   \n",
       "4            False                  False          False  ...   \n",
       "\n",
       "   studio_primary_Toei Animation  studios_colab_Yes  genre_Adventure  \\\n",
       "0                           True              False            False   \n",
       "1                          False              False            False   \n",
       "2                          False              False            False   \n",
       "3                          False              False            False   \n",
       "4                          False              False            False   \n",
       "\n",
       "   genre_Based on a Manga  genre_Comedy  genre_Drama  genre_Fantasy  \\\n",
       "0                   False         False        False          False   \n",
       "1                   False         False        False          False   \n",
       "2                   False         False        False          False   \n",
       "3                   False         False         True          False   \n",
       "4                   False         False        False          False   \n",
       "\n",
       "   genre_Other  genre_Romance  genre_Sci Fi  \n",
       "0         True          False         False  \n",
       "1         True          False         False  \n",
       "2         True          False         False  \n",
       "3        False          False         False  \n",
       "4         True          False         False  \n",
       "\n",
       "[5 rows x 34 columns]"
      ]
     },
     "execution_count": 43,
     "metadata": {},
     "output_type": "execute_result"
    }
   ],
   "source": [
    "# converting the input attributes into float type for modeling\n",
    "x = X.astype(float)\n",
    "X. head ()"
   ]
  },
  {
   "cell_type": "code",
   "execution_count": 44,
   "id": "293c7c59-dbd7-4455-8eb7-bfaf059921a3",
   "metadata": {},
   "outputs": [
    {
     "name": "stdout",
     "output_type": "stream",
     "text": [
      "Number of rows in train data = 4566\n",
      "Number of rows in test data = 1957\n"
     ]
    }
   ],
   "source": [
    "# splitting the data in 70:30 ratio for train to test data\n",
    "X_train, X_test, y_train, y_test = train_test_split(X, y, test_size=0.3, random_state=1)\n",
    "\n",
    "print(\"Number of rows in train data =\", X_train.shape[0])\n",
    "print(\"Number of rows in test data =\", X_test.shape[0])\n"
   ]
  },
  {
   "cell_type": "markdown",
   "id": "f9c65239-b313-4fa2-a5aa-e9c80e4f5075",
   "metadata": {},
   "source": [
    "# Model Building - Linear Regression"
   ]
  },
  {
   "cell_type": "code",
   "execution_count": 57,
   "id": "01b17b06-4dcf-452f-8725-b88963e7ed55",
   "metadata": {},
   "outputs": [
    {
     "name": "stdout",
     "output_type": "stream",
     "text": [
      "const                               float64\n",
      "eps                                   int64\n",
      "duration                            float64\n",
      "watched                               int64\n",
      "watching                              int64\n",
      "votes                               float64\n",
      "years_running                         int64\n",
      "mediaType_Movie                        bool\n",
      "mediaType_Music Video                  bool\n",
      "mediaType_OVA                          bool\n",
      "mediaType_Other                        bool\n",
      "mediaType_TV                           bool\n",
      "mediaType_TV Special                   bool\n",
      "mediaType_Web                          bool\n",
      "contentWarn_Yes                        bool\n",
      "studio_primary_J.C. Staff              bool\n",
      "studio_primary_MADHOUSE                bool\n",
      "studio_primary_OLM                     bool\n",
      "studio_primary_Others                  bool\n",
      "studio_primary_Production I.G          bool\n",
      "studio_primary_Studio Deen             bool\n",
      "studio_primary_Studio Pierrot          bool\n",
      "studio_primary_Sunrise                 bool\n",
      "studio_primary_TMS Entertainment       bool\n",
      "studio_primary_Toei Animation          bool\n",
      "studios_colab_Yes                      bool\n",
      "genre_Adventure                        bool\n",
      "genre_Based on a Manga                 bool\n",
      "genre_Comedy                           bool\n",
      "genre_Drama                            bool\n",
      "genre_Fantasy                          bool\n",
      "genre_Other                            bool\n",
      "genre_Romance                          bool\n",
      "genre_Sci Fi                           bool\n",
      "dtype: object\n",
      "const                               float64\n",
      "eps                                   int64\n",
      "duration                            float64\n",
      "watched                               int64\n",
      "watching                              int64\n",
      "votes                               float64\n",
      "years_running                         int64\n",
      "mediaType_Movie                        bool\n",
      "mediaType_Music Video                  bool\n",
      "mediaType_OVA                          bool\n",
      "mediaType_Other                        bool\n",
      "mediaType_TV                           bool\n",
      "mediaType_TV Special                   bool\n",
      "mediaType_Web                          bool\n",
      "contentWarn_Yes                        bool\n",
      "studio_primary_J.C. Staff              bool\n",
      "studio_primary_MADHOUSE                bool\n",
      "studio_primary_OLM                     bool\n",
      "studio_primary_Others                  bool\n",
      "studio_primary_Production I.G          bool\n",
      "studio_primary_Studio Deen             bool\n",
      "studio_primary_Studio Pierrot          bool\n",
      "studio_primary_Sunrise                 bool\n",
      "studio_primary_TMS Entertainment       bool\n",
      "studio_primary_Toei Animation          bool\n",
      "studios_colab_Yes                      bool\n",
      "genre_Adventure                        bool\n",
      "genre_Based on a Manga                 bool\n",
      "genre_Comedy                           bool\n",
      "genre_Drama                            bool\n",
      "genre_Fantasy                          bool\n",
      "genre_Other                            bool\n",
      "genre_Romance                          bool\n",
      "genre_Sci Fi                           bool\n",
      "dtype: object\n"
     ]
    }
   ],
   "source": [
    "print(X_train.dtypes)\n",
    "print(X_test.dtypes)\n"
   ]
  },
  {
   "cell_type": "code",
   "execution_count": 59,
   "id": "23065e61-8307-47f6-ac5e-5bc176bf5c65",
   "metadata": {},
   "outputs": [
    {
     "name": "stdout",
     "output_type": "stream",
     "text": [
      "const                               float64\n",
      "eps                                   int64\n",
      "duration                            float64\n",
      "watched                               int64\n",
      "watching                              int64\n",
      "votes                               float64\n",
      "years_running                         int64\n",
      "mediaType_Movie                       int64\n",
      "mediaType_Music Video                 int64\n",
      "mediaType_OVA                         int64\n",
      "mediaType_Other                       int64\n",
      "mediaType_TV                          int64\n",
      "mediaType_TV Special                  int64\n",
      "mediaType_Web                         int64\n",
      "contentWarn_Yes                       int64\n",
      "studio_primary_J.C. Staff             int64\n",
      "studio_primary_MADHOUSE               int64\n",
      "studio_primary_OLM                    int64\n",
      "studio_primary_Others                 int64\n",
      "studio_primary_Production I.G         int64\n",
      "studio_primary_Studio Deen            int64\n",
      "studio_primary_Studio Pierrot         int64\n",
      "studio_primary_Sunrise                int64\n",
      "studio_primary_TMS Entertainment      int64\n",
      "studio_primary_Toei Animation         int64\n",
      "studios_colab_Yes                     int64\n",
      "genre_Adventure                       int64\n",
      "genre_Based on a Manga                int64\n",
      "genre_Comedy                          int64\n",
      "genre_Drama                           int64\n",
      "genre_Fantasy                         int64\n",
      "genre_Other                           int64\n",
      "genre_Romance                         int64\n",
      "genre_Sci Fi                          int64\n",
      "dtype: object\n",
      "const                               float64\n",
      "eps                                   int64\n",
      "duration                            float64\n",
      "watched                               int64\n",
      "watching                              int64\n",
      "votes                               float64\n",
      "years_running                         int64\n",
      "mediaType_Movie                       int64\n",
      "mediaType_Music Video                 int64\n",
      "mediaType_OVA                         int64\n",
      "mediaType_Other                       int64\n",
      "mediaType_TV                          int64\n",
      "mediaType_TV Special                  int64\n",
      "mediaType_Web                         int64\n",
      "contentWarn_Yes                       int64\n",
      "studio_primary_J.C. Staff             int64\n",
      "studio_primary_MADHOUSE               int64\n",
      "studio_primary_OLM                    int64\n",
      "studio_primary_Others                 int64\n",
      "studio_primary_Production I.G         int64\n",
      "studio_primary_Studio Deen            int64\n",
      "studio_primary_Studio Pierrot         int64\n",
      "studio_primary_Sunrise                int64\n",
      "studio_primary_TMS Entertainment      int64\n",
      "studio_primary_Toei Animation         int64\n",
      "studios_colab_Yes                     int64\n",
      "genre_Adventure                       int64\n",
      "genre_Based on a Manga                int64\n",
      "genre_Comedy                          int64\n",
      "genre_Drama                           int64\n",
      "genre_Fantasy                         int64\n",
      "genre_Other                           int64\n",
      "genre_Romance                         int64\n",
      "genre_Sci Fi                          int64\n",
      "dtype: object\n",
      "                            OLS Regression Results                            \n",
      "==============================================================================\n",
      "Dep. Variable:                 rating   R-squared:                       0.722\n",
      "Model:                            OLS   Adj. R-squared:                  0.720\n",
      "Method:                 Least Squares   F-statistic:                     357.4\n",
      "Date:                Tue, 26 Nov 2024   Prob (F-statistic):               0.00\n",
      "Time:                        22:39:51   Log-Likelihood:                -2307.9\n",
      "No. Observations:                4566   AIC:                             4684.\n",
      "Df Residuals:                    4532   BIC:                             4902.\n",
      "Df Model:                          33                                         \n",
      "Covariance Type:            nonrobust                                         \n",
      "====================================================================================================\n",
      "                                       coef    std err          t      P>|t|      [0.025      0.975]\n",
      "----------------------------------------------------------------------------------------------------\n",
      "const                                2.7707      0.074     37.657      0.000       2.626       2.915\n",
      "eps                                  0.0193      0.001     17.871      0.000       0.017       0.021\n",
      "duration                             0.0123      0.000     25.656      0.000       0.011       0.013\n",
      "watched                              0.0004   2.82e-05     14.213      0.000       0.000       0.000\n",
      "watching                             0.0037      0.000     21.258      0.000       0.003       0.004\n",
      "votes                               -0.0003   4.52e-05     -7.460      0.000      -0.000      -0.000\n",
      "years_running                       -0.0767      0.008     -9.039      0.000      -0.093      -0.060\n",
      "mediaType_Movie                     -0.2975      0.032     -9.168      0.000      -0.361      -0.234\n",
      "mediaType_Music Video               -0.2911      0.030     -9.717      0.000      -0.350      -0.232\n",
      "mediaType_OVA                       -0.3017      0.030    -10.094      0.000      -0.360      -0.243\n",
      "mediaType_Other                     -0.2731      0.035     -7.885      0.000      -0.341      -0.205\n",
      "mediaType_TV                        -0.5301      0.034    -15.800      0.000      -0.596      -0.464\n",
      "mediaType_TV Special                -0.1854      0.039     -4.757      0.000      -0.262      -0.109\n",
      "mediaType_Web                       -0.4087      0.031    -13.263      0.000      -0.469      -0.348\n",
      "contentWarn_Yes                     -0.1776      0.020     -8.735      0.000      -0.218      -0.138\n",
      "studio_primary_J.C. Staff           -0.1578      0.055     -2.850      0.004      -0.266      -0.049\n",
      "studio_primary_MADHOUSE             -0.2071      0.057     -3.635      0.000      -0.319      -0.095\n",
      "studio_primary_OLM                  -0.3696      0.064     -5.785      0.000      -0.495      -0.244\n",
      "studio_primary_Others               -0.2482      0.044     -5.603      0.000      -0.335      -0.161\n",
      "studio_primary_Production I.G        0.0828      0.058      1.430      0.153      -0.031       0.196\n",
      "studio_primary_Studio Deen          -0.1264      0.061     -2.083      0.037      -0.245      -0.007\n",
      "studio_primary_Studio Pierrot       -0.2311      0.062     -3.747      0.000      -0.352      -0.110\n",
      "studio_primary_Sunrise              -0.0689      0.054     -1.282      0.200      -0.174       0.036\n",
      "studio_primary_TMS Entertainment     0.0361      0.057      0.639      0.523      -0.075       0.147\n",
      "studio_primary_Toei Animation       -0.1817      0.051     -3.580      0.000      -0.281      -0.082\n",
      "studios_colab_Yes                    0.0021      0.028      0.072      0.942      -0.054       0.058\n",
      "genre_Adventure                     -0.1219      0.062     -1.964      0.050      -0.244      -0.000\n",
      "genre_Based on a Manga              -0.0056      0.086     -0.065      0.948      -0.175       0.164\n",
      "genre_Comedy                        -0.2693      0.075     -3.602      0.000      -0.416      -0.123\n",
      "genre_Drama                          0.2504      0.067      3.740      0.000       0.119       0.382\n",
      "genre_Fantasy                        0.0621      0.075      0.823      0.411      -0.086       0.210\n",
      "genre_Other                         -0.0436      0.055     -0.791      0.429      -0.152       0.064\n",
      "genre_Romance                        0.0026      0.065      0.040      0.968      -0.125       0.130\n",
      "genre_Sci Fi                        -0.0596      0.068     -0.874      0.382      -0.193       0.074\n",
      "==============================================================================\n",
      "Omnibus:                      147.177   Durbin-Watson:                   1.944\n",
      "Prob(Omnibus):                  0.000   Jarque-Bera (JB):               70.085\n",
      "Skew:                           0.052   Prob(JB):                     6.04e-16\n",
      "Kurtosis:                       2.402   Cond. No.                     7.64e+04\n",
      "==============================================================================\n",
      "\n",
      "Notes:\n",
      "[1] Standard Errors assume that the covariance matrix of the errors is correctly specified.\n",
      "[2] The condition number is large, 7.64e+04. This might indicate that there are\n",
      "strong multicollinearity or other numerical problems.\n"
     ]
    }
   ],
   "source": [
    "import numpy as np\n",
    "import pandas as pd\n",
    "import matplotlib.pyplot as plt\n",
    "import seaborn as sns\n",
    "from sklearn.model_selection import train_test_split\n",
    "import statsmodels.api as sm\n",
    "from sklearn.metrics import mean_absolute_error, mean_squared_error, r2_score\n",
    "\n",
    "# Convert all boolean columns to integers\n",
    "X_train = X_train.astype({col: 'int' for col in X_train.select_dtypes(include=['bool']).columns})\n",
    "X_test = X_test.astype({col: 'int' for col in X_test.select_dtypes(include=['bool']).columns})\n",
    "\n",
    "# Ensure all columns are numeric\n",
    "print(X_train.dtypes)\n",
    "print(X_test.dtypes)\n",
    "\n",
    "# Fit the model again\n",
    "olsmodel = sm.OLS(y_train, X_train).fit()\n",
    "print(olsmodel.summary())\n"
   ]
  },
  {
   "cell_type": "markdown",
   "id": "9aba0ac2-0cc8-441e-98af-5d984a3484b1",
   "metadata": {},
   "source": [
    "# Interpreting the Regression Results"
   ]
  },
  {
   "cell_type": "markdown",
   "id": "1704ca6c-489f-48d9-9cb1-d8bd45348123",
   "metadata": {},
   "source": [
    "# PART - 1"
   ]
  },
  {
   "cell_type": "markdown",
   "id": "328c31c7-460e-4791-81a0-0a5ab0b7af92",
   "metadata": {},
   "source": [
    "#### 1. Adjusted. R-squared: It reflects the fit of the model.\n",
    "#### • Adjusted R-squared values generally range from 0 to 1, where a higher value generally indicates a better fit, assuming certain conditions are met.\n",
    "#### • In our case, the value for adj. R-squared is 0.722, which is good.\n",
    "#### 2. const coefficient: It is the Y-intercept.\n",
    "#### • It means that if all the predictor variable coefficients are zero, then the expected output (i.e., Y) would be equal to the const coefficient.\n",
    "#### • In our case, the value for const coefficient is 2.7707\n",
    "#### 3. Coefficient of a predictor variable: It represents the change in the output Y due to a change in the predictor variable (everything else held constant).\n",
    "#### • In our case, the coefficient of duration is 0.0123."
   ]
  },
  {
   "cell_type": "markdown",
   "id": "c4641a8d-8c5c-4b37-a897-e76919b68359",
   "metadata": {},
   "source": [
    "\n",
    "# Model Performance Check"
   ]
  },
  {
   "cell_type": "markdown",
   "id": "ace6bce6-c795-4ed0-8d26-fb30e50b5a31",
   "metadata": {},
   "source": [
    "#### Let's check the performance of the model using different metrics.\n",
    "#### • We will be using metric functions defined in sklearn for RMSE, MAE, and R2\n",
    "#### • We will define a function to calculate MAPE and adjusted R2\n",
    "#### • The mean absolute percentage error (MAPE) measures the accuracy of predictions as a percentage, and can be calculated as the average absolute percent error for each predicted value minus actual values divided by actual values. It works best if there are no extreme values in the data and none of the actual values are 0.\n",
    "#### • We will create a function which will print out all the above metrics in one go."
   ]
  },
  {
   "cell_type": "code",
   "execution_count": 67,
   "id": "93f19ce8-be15-4ce3-8656-990f6a03c7c5",
   "metadata": {},
   "outputs": [],
   "source": [
    "# Function to compute different metrics to check performance of a regression model\n",
    "def model_performance_regression(model, predictors, target):\n",
    "    pred = model.predict(predictors)\n",
    "    r2 = r2_score(target, pred)  # Compute R-squared\n",
    "    rmse = np.sqrt(mean_squared_error(target, pred))  # Compute RMSE\n",
    "    mae = mean_absolute_error(target, pred)  # Compute MAE\n",
    "    \n",
    "    # Creating a dataframe of metrics\n",
    "    df_perf = pd.DataFrame({\n",
    "        \"RMSE\": [rmse],\n",
    "        \"MAE\": [mae],\n",
    "        \"R-squared\": [r2]\n",
    "    })\n",
    "    return df_perf\n"
   ]
  },
  {
   "cell_type": "code",
   "execution_count": 69,
   "id": "9aa18d04-0f3b-40c6-a8f1-3fde9d72fbba",
   "metadata": {},
   "outputs": [
    {
     "name": "stdout",
     "output_type": "stream",
     "text": [
      "Training Performance\n",
      "\n",
      "      RMSE       MAE  R-squared\n",
      "0  0.40112  0.330417   0.722387\n"
     ]
    }
   ],
   "source": [
    "# Checking model performance on train set (seen 70% data)\n",
    "print(\"Training Performance\\n\")\n",
    "olsmodel_train_perf = model_performance_regression(olsmodel, X_train, y_train)\n",
    "print(olsmodel_train_perf)\n"
   ]
  },
  {
   "cell_type": "code",
   "execution_count": 71,
   "id": "6101aad9-ce88-4838-84d3-4eb80b92f8ff",
   "metadata": {},
   "outputs": [
    {
     "name": "stdout",
     "output_type": "stream",
     "text": [
      "Test Performance\n",
      "\n",
      "       RMSE       MAE  R-squared\n",
      "0  0.413096  0.340426   0.703053\n"
     ]
    }
   ],
   "source": [
    "# Checking model performance on test set (seen 30% data)\n",
    "print(\"Test Performance\\n\")\n",
    "olsmodel_test_perf = model_performance_regression(olsmodel, X_test, y_test)\n",
    "print(olsmodel_test_perf)\n"
   ]
  },
  {
   "cell_type": "markdown",
   "id": "02da1a2f-9a40-48ed-8cbf-e4afedc9877d",
   "metadata": {},
   "source": [
    "#### Observations\n",
    "#### • The training R? is 0.72, so the model is not underfitting\n",
    "#### • The train and test RMSE and MAE are comparable, so the model is not overfitting either\n",
    "#### • MAE suggests that the model can predict anime ratings within a mean error of 0.34 on the test data"
   ]
  },
  {
   "cell_type": "markdown",
   "id": "463156ca-3f87-4269-88fd-b54132788446",
   "metadata": {},
   "source": [
    "# 2- Checking Linear Regression Assumptions\n",
    "\n"
   ]
  },
  {
   "cell_type": "markdown",
   "id": "91faa806-a789-4a2f-bb15-567515ba2995",
   "metadata": {},
   "source": [
    "#### We will be checking the following Linear Regression assumptions:\n",
    "#### . No Multicollinearity\n",
    "#### 2. Linearity of variables\n",
    "#### 3. Independence of error terms\n",
    "#### 4. Normality of error terms\n",
    "#### 5. No Heteroscedasticity"
   ]
  },
  {
   "cell_type": "markdown",
   "id": "b605a976-bad3-4928-98df-6114e93b217f",
   "metadata": {},
   "source": [
    "# TEST FOR MULTICOLLINEARITY\n",
    "\n"
   ]
  },
  {
   "cell_type": "markdown",
   "id": "62826a00-f5d6-411e-81f6-dc5f0fe0228e",
   "metadata": {},
   "source": [
    "#### • Multicollinearity occurs when predictor variables in a regression model are correlated. This correlation is a problem because predictor variables should be independent. If the correlation between variables is high, it can cause problems when we fit the model and interpret the results. When we have multicollinearity in the linear model, the coefficients that the model suggests are unreliable.\n",
    "#### • There are different ways of detecting (or testing) multicollinearity. One such way is by using the Variance Inflation Factor, or VIF.\n",
    "#### • Variance Inflation Factor (VIF): Variance inflation factors measure the inflation in the variances of the regression parameter estimates due to collinearities that exist among the predictors. It is a measure of how much the variance of the estimated regression coefficient Bk is \"inflated\" by the existence of correlation among the predictor variables in the model.\n",
    "#### • If VIF is 1, then there is no correlation among the kth predictor and the remaining predictor variables, and hence, the variance of Bk is not inflated at all.\n",
    "#### • General Rule of thumb:\n",
    "#### • If VIF is between 1 and 5, then there is low multicollinearity.\n",
    "#### • If VIF is between 5 and 10, we say there is moderate multicollinearity.\n",
    "#### • If VIF is exceeding 10, it shows signs of high multicollinearity."
   ]
  },
  {
   "cell_type": "code",
   "execution_count": 80,
   "id": "b943c89e-7dc2-46a0-a8fa-034e514ecfaf",
   "metadata": {},
   "outputs": [
    {
     "name": "stdout",
     "output_type": "stream",
     "text": [
      "                             feature         VIF\n",
      "0                              const  152.488126\n",
      "5                              votes   79.580182\n",
      "3                            watched   68.407244\n",
      "31                       genre_Other   11.591914\n",
      "18             studio_primary_Others   11.131121\n",
      "11                      mediaType_TV    6.998184\n",
      "4                           watching    4.997799\n",
      "26                   genre_Adventure    4.197895\n",
      "7                    mediaType_Movie    4.062291\n",
      "24     studio_primary_Toei Animation    3.983035\n",
      "1                                eps    3.907746\n",
      "32                     genre_Romance    3.349247\n",
      "9                      mediaType_OVA    3.049100\n",
      "29                       genre_Drama    2.915488\n",
      "22            studio_primary_Sunrise    2.881062\n",
      "2                           duration    2.752909\n",
      "33                      genre_Sci Fi    2.698722\n",
      "23  studio_primary_TMS Entertainment    2.530580\n",
      "15         studio_primary_J.C. Staff    2.512300\n",
      "8              mediaType_Music Video    2.409153\n",
      "16           studio_primary_MADHOUSE    2.359150\n",
      "19     studio_primary_Production I.G    2.240209\n",
      "13                     mediaType_Web    2.228931\n",
      "28                      genre_Comedy    2.175454\n",
      "30                     genre_Fantasy    2.080246\n",
      "20        studio_primary_Studio Deen    2.004036\n",
      "21     studio_primary_Studio Pierrot    2.002522\n",
      "17                studio_primary_OLM    1.882586\n",
      "12              mediaType_TV Special    1.756936\n",
      "10                   mediaType_Other    1.735561\n",
      "27            genre_Based on a Manga    1.687548\n",
      "6                      years_running    1.272615\n",
      "14                   contentWarn_Yes    1.125939\n",
      "25                 studios_colab_Yes    1.043084\n"
     ]
    }
   ],
   "source": [
    "from statsmodels.stats.outliers_influence import variance_inflation_factor\n",
    "import pandas as pd\n",
    "\n",
    "def checking_vif(predictors):\n",
    "    vif = pd.DataFrame()\n",
    "    vif[\"feature\"] = predictors.columns\n",
    "    \n",
    "    # Calculating VIF for each feature\n",
    "    vif[\"VIF\"] = [variance_inflation_factor(predictors.values, i) for i in range(len(predictors.columns))]\n",
    "    \n",
    "    return vif\n",
    "\n",
    "# Checking VIF\n",
    "vif_df = checking_vif(X_train).sort_values('VIF', ascending=False)\n",
    "print(vif_df)\n"
   ]
  },
  {
   "cell_type": "markdown",
   "id": "8a9b7a26-797f-4ff7-b76e-8aa7775ca452",
   "metadata": {},
   "source": [
    "#### • There are multiple columns with very high VIF values, indicating presence of strong multicollinearity\n",
    "#### • We will systematically drop numerical columns with VIF > 5\n",
    "#### • We will ignore the VIF values for dummy variables and the constant (intercept)"
   ]
  },
  {
   "cell_type": "markdown",
   "id": "8dea02b8-6af1-49e5-82b2-8a93731afac0",
   "metadata": {},
   "source": [
    "# Remove Multicollinearity"
   ]
  },
  {
   "cell_type": "markdown",
   "id": "024b827c-43a5-452d-a771-6ad797582992",
   "metadata": {},
   "source": [
    "#### To remove multicollinearity\n",
    "\n",
    "#### 1. Drop every column one by one that has a VIF score greater than 5.\n",
    "#### 2. Look at the adjusted R-squared and RMSE of all these models.\n",
    "#### 3. Drop the variable that makes the least change in adjusted R-squared.\n",
    "#### 4. Check the VIF scores again.\n",
    "#### 5. Continue till you get all VIF scores under 5.\n",
    "#### Let's define a function that will help us do this.\n"
   ]
  },
  {
   "cell_type": "code",
   "execution_count": 89,
   "id": "bdd63fb4-11ce-459c-9623-775a1c6bb471",
   "metadata": {},
   "outputs": [
    {
     "name": "stdout",
     "output_type": "stream",
     "text": [
      "       col  Adj. R-squared after dropping col  RMSE after dropping col\n",
      "0    votes                           0.716994                 0.405042\n",
      "1  watched                           0.707967                 0.411451\n"
     ]
    }
   ],
   "source": [
    "def treating_multicollinearity(predictors, target, high_vif_columns):\n",
    "    \"\"\"\n",
    "    Checking the effect of dropping the columns showing high multicollinearity on model performance (adj. R-squared and RMSE)\n",
    "    predictors: independent variables\n",
    "    target: dependent variable\n",
    "    high_vif_columns: columns having high VIF\n",
    "    \"\"\"\n",
    "    \n",
    "    # Empty lists to store adj. R-squared and RMSE values\n",
    "    adj_r2 = []\n",
    "    rmse = []\n",
    "\n",
    "    # Build OLS models by dropping one of the high VIF columns at a time\n",
    "    # Store the adjusted R-squared and RMSE in the lists defined previously\n",
    "    for col in high_vif_columns:\n",
    "        # Defining the new train set\n",
    "        train = predictors.loc[:, ~predictors.columns.str.startswith(col)]\n",
    "        \n",
    "        # Create the model\n",
    "        olsmodel = sm.OLS(target, train).fit()\n",
    "        \n",
    "        # Adding adj. R-squared and RMSE to the lists\n",
    "        adj_r2.append(olsmodel.rsquared_adj)\n",
    "        rmse.append(np.sqrt(olsmodel.mse_resid))\n",
    "    \n",
    "    # Creating a dataframe for the results\n",
    "    temp = pd.DataFrame({\n",
    "        \"col\": high_vif_columns,\n",
    "        \"Adj. R-squared after dropping col\": adj_r2,\n",
    "        \"RMSE after dropping col\": rmse\n",
    "    }).sort_values(by=\"Adj. R-squared after dropping col\", ascending=False)\n",
    "    \n",
    "    temp.reset_index(drop=True, inplace=True)\n",
    "    \n",
    "    return temp\n",
    "\n",
    "# Example usage\n",
    "col_list = [\"watched\", \"votes\"]\n",
    "res = treating_multicollinearity(X_train, y_train, col_list)\n",
    "print(res)\n"
   ]
  },
  {
   "cell_type": "code",
   "execution_count": 91,
   "id": "9e04173d-6371-49fe-9d82-8eca10fc89c9",
   "metadata": {},
   "outputs": [
    {
     "name": "stdout",
     "output_type": "stream",
     "text": [
      "VIF after dropping votes\n",
      "                             feature         VIF\n",
      "0                              const  152.249342\n",
      "1                                eps    3.873093\n",
      "2                           duration    2.752030\n",
      "3                            watched    3.235392\n",
      "4                           watching    4.154724\n",
      "5                      years_running    1.272523\n",
      "6                    mediaType_Movie    4.060078\n",
      "7              mediaType_Music Video    2.408173\n",
      "8                      mediaType_OVA    3.049085\n",
      "9                    mediaType_Other    1.729382\n",
      "10                      mediaType_TV    6.924966\n",
      "11              mediaType_TV Special    1.756017\n",
      "12                     mediaType_Web    2.227588\n",
      "13                   contentWarn_Yes    1.125939\n",
      "14         studio_primary_J.C. Staff    2.512299\n",
      "15           studio_primary_MADHOUSE    2.359013\n",
      "16                studio_primary_OLM    1.882550\n",
      "17             studio_primary_Others   11.126123\n",
      "18     studio_primary_Production I.G    2.240164\n",
      "19        studio_primary_Studio Deen    2.003836\n",
      "20     studio_primary_Studio Pierrot    2.002485\n",
      "21            studio_primary_Sunrise    2.879639\n",
      "22  studio_primary_TMS Entertainment    2.530283\n",
      "23     studio_primary_Toei Animation    3.982565\n",
      "24                 studios_colab_Yes    1.042889\n",
      "25                   genre_Adventure    4.197219\n",
      "26            genre_Based on a Manga    1.687052\n",
      "27                      genre_Comedy    2.175119\n",
      "28                       genre_Drama    2.913752\n",
      "29                     genre_Fantasy    2.079839\n",
      "30                       genre_Other   11.583777\n",
      "31                     genre_Romance    3.348489\n",
      "32                      genre_Sci Fi    2.697440\n"
     ]
    }
   ],
   "source": [
    "col_to_drop = \"votes\"\n",
    "\n",
    "# Creating new train and test sets by dropping the specified column\n",
    "X_train2 = X_train.loc[:, ~X_train.columns.str.startswith(col_to_drop)]\n",
    "X_test2 = X_test.loc[:, ~X_test.columns.str.startswith(col_to_drop)]\n",
    "\n",
    "# Check VIF now\n",
    "vif = checking_vif(X_train2)\n",
    "print(\"VIF after dropping\", col_to_drop)\n",
    "print(vif)\n"
   ]
  },
  {
   "cell_type": "markdown",
   "id": "ab2fbf3b-9c42-4c7f-9a2d-8afacb556f4c",
   "metadata": {},
   "source": [
    "#### • We have dealt with multicollinearity in the data\n",
    "#### • Let's rebuild the model using the updated set of predictors variables"
   ]
  },
  {
   "cell_type": "code",
   "execution_count": 96,
   "id": "b3532cef-f521-4d36-b65e-b36caad85039",
   "metadata": {},
   "outputs": [
    {
     "name": "stdout",
     "output_type": "stream",
     "text": [
      "                            OLS Regression Results                            \n",
      "==============================================================================\n",
      "Dep. Variable:                 rating   R-squared:                       0.719\n",
      "Model:                            OLS   Adj. R-squared:                  0.717\n",
      "Method:                 Least Squares   F-statistic:                     362.4\n",
      "Date:                Tue, 26 Nov 2024   Prob (F-statistic):               0.00\n",
      "Time:                        22:56:23   Log-Likelihood:                -2335.7\n",
      "No. Observations:                4566   AIC:                             4737.\n",
      "Df Residuals:                    4533   BIC:                             4950.\n",
      "Df Model:                          32                                         \n",
      "Covariance Type:            nonrobust                                         \n",
      "====================================================================================================\n",
      "                                       coef    std err          t      P>|t|      [0.025      0.975]\n",
      "----------------------------------------------------------------------------------------------------\n",
      "const                                2.7925      0.074     37.755      0.000       2.647       2.937\n",
      "eps                                  0.0200      0.001     18.545      0.000       0.018       0.022\n",
      "duration                             0.0122      0.000     25.374      0.000       0.011       0.013\n",
      "watched                              0.0002   6.17e-06     31.678      0.000       0.000       0.000\n",
      "watching                             0.0031      0.000     19.836      0.000       0.003       0.003\n",
      "years_running                       -0.0761      0.009     -8.922      0.000      -0.093      -0.059\n",
      "mediaType_Movie                     -0.3031      0.033     -9.289      0.000      -0.367      -0.239\n",
      "mediaType_Music Video               -0.2957      0.030     -9.811      0.000      -0.355      -0.237\n",
      "mediaType_OVA                       -0.3012      0.030    -10.017      0.000      -0.360      -0.242\n",
      "mediaType_Other                     -0.2577      0.035     -7.409      0.000      -0.326      -0.189\n",
      "mediaType_TV                        -0.5557      0.034    -16.551      0.000      -0.621      -0.490\n",
      "mediaType_TV Special                -0.1787      0.039     -4.560      0.000      -0.256      -0.102\n",
      "mediaType_Web                       -0.4143      0.031    -13.370      0.000      -0.475      -0.354\n",
      "contentWarn_Yes                     -0.1776      0.020     -8.680      0.000      -0.218      -0.137\n",
      "studio_primary_J.C. Staff           -0.1579      0.056     -2.835      0.005      -0.267      -0.049\n",
      "studio_primary_MADHOUSE             -0.2104      0.057     -3.670      0.000      -0.323      -0.098\n",
      "studio_primary_OLM                  -0.3675      0.064     -5.717      0.000      -0.494      -0.242\n",
      "studio_primary_Others               -0.2552      0.045     -5.728      0.000      -0.343      -0.168\n",
      "studio_primary_Production I.G        0.0808      0.058      1.388      0.165      -0.033       0.195\n",
      "studio_primary_Studio Deen          -0.1219      0.061     -1.997      0.046      -0.242      -0.002\n",
      "studio_primary_Studio Pierrot       -0.2331      0.062     -3.757      0.000      -0.355      -0.111\n",
      "studio_primary_Sunrise              -0.0600      0.054     -1.110      0.267      -0.166       0.046\n",
      "studio_primary_TMS Entertainment     0.0407      0.057      0.715      0.474      -0.071       0.152\n",
      "studio_primary_Toei Animation       -0.1859      0.051     -3.639      0.000      -0.286      -0.086\n",
      "studios_colab_Yes                    0.0050      0.029      0.173      0.863      -0.051       0.061\n",
      "genre_Adventure                     -0.1278      0.062     -2.047      0.041      -0.250      -0.005\n",
      "genre_Based on a Manga              -0.0166      0.087     -0.191      0.848      -0.187       0.154\n",
      "genre_Comedy                        -0.2762      0.075     -3.673      0.000      -0.424      -0.129\n",
      "genre_Drama                          0.2382      0.067      3.538      0.000       0.106       0.370\n",
      "genre_Fantasy                        0.0542      0.076      0.714      0.475      -0.095       0.203\n",
      "genre_Other                         -0.0545      0.055     -0.983      0.326      -0.163       0.054\n",
      "genre_Romance                       -0.0047      0.065     -0.072      0.942      -0.133       0.124\n",
      "genre_Sci Fi                        -0.0707      0.069     -1.031      0.303      -0.205       0.064\n",
      "==============================================================================\n",
      "Omnibus:                      146.326   Durbin-Watson:                   1.946\n",
      "Prob(Omnibus):                  0.000   Jarque-Bera (JB):               69.874\n",
      "Skew:                           0.053   Prob(JB):                     6.71e-16\n",
      "Kurtosis:                       2.403   Cond. No.                     6.35e+04\n",
      "==============================================================================\n",
      "\n",
      "Notes:\n",
      "[1] Standard Errors assume that the covariance matrix of the errors is correctly specified.\n",
      "[2] The condition number is large, 6.35e+04. This might indicate that there are\n",
      "strong multicollinearity or other numerical problems.\n"
     ]
    }
   ],
   "source": [
    "olsmod1 = sm.OLS(y_train, X_train2).fit()\n",
    "print(olsmod1.summary())\n"
   ]
  },
  {
   "cell_type": "markdown",
   "id": "36092944-c551-43fd-8453-f94e369a46b3",
   "metadata": {},
   "source": [
    "#### Notes:\n",
    "#### [1] Standard Errors assume that the covariance matrix of the errors is correctly specified.\n",
    "#### [2] The condition number is large, 6.35e+04. This might indicate that there are strong multicollinearity or other numerical problems."
   ]
  },
  {
   "cell_type": "markdown",
   "id": "8a290bd4-f142-4a7b-8c69-2c21fe86a334",
   "metadata": {},
   "source": [
    "# Interpreting the Regression Results:"
   ]
  },
  {
   "cell_type": "markdown",
   "id": "3bbe0909-cdae-406b-b5a6-32c79b0b04a9",
   "metadata": {},
   "source": [
    "# Part 2"
   ]
  },
  {
   "cell_type": "markdown",
   "id": "7c2c58b4-1b15-4ff8-b4ee-57d53d92f0a4",
   "metadata": {},
   "source": [
    "#### 4. std err: It reflects the level of accuracy of the coefficients.\n",
    "#### • The lower it is, the higher is the level of accuracy.\n",
    "#### 5. P>t|: It is p-value.\n",
    "#### independent variable.\n",
    "#### • For each independent feature, there is a null hypothesis and an alternate hypothesis. Here S\\beta_i$ is the coefficient of the SiSth\n",
    "####   • SH_O$: Independent feature is not significant (S\\beta_i = O$)\n",
    "####   • SH_a$: Independent feature is that it is significant (S\\beta_i \\neq 0$)\n",
    "#### • (P>|t|) gives the p-value for each independent feature to check that null hypothesis. We are considering 0.05 (5%) as significance level.\n",
    "#### • A p-value of less than 0.05 is considered to be statistically significant.\n",
    "#### 6. Confidence Interval: It represents the range in which our coefficients are likely to fall (with a likelihood of 95%).\n",
    "#### Observations\n",
    "#### • We can see that adj. R-squared has dropped from 0.720 to 0.717, which shows that the dropped columns did not have much effect on the model\n",
    "#### • As there is no multicollinearity, we can look at the p-values of predictor variables to check their significance"
   ]
  },
  {
   "cell_type": "markdown",
   "id": "ecc93c22-3319-468d-9a2f-9a24dfeddbed",
   "metadata": {},
   "source": [
    "# Dealing with high p-value variables"
   ]
  },
  {
   "cell_type": "markdown",
   "id": "ac8dd9a2-49f3-421c-9bc1-ac174084cc76",
   "metadata": {},
   "source": [
    "#### • Some of the dummy variables in the data have p-value > 0.05. So, they are not significant and we'll drop them\n",
    "#### • But sometimes p-values change after dropping a variable. So, we'll not drop all variables at once\n",
    "#### • Instead, we will do the following:\n",
    "#### • Build a model, check the p-values of the variables, and drop the column with the highest p-value\n",
    "#### • Create a new model without the dropped feature, check the p-values of the variables, and drop the column with the highest p-value\n",
    "#### • Repeat the above two steps till there are no columns with p-value > 0.05\n",
    "#### Note: The above process can also be done manually by picking one variable at a time that has a high p-value, dropping it, and building a model again. But that might be a little tedious and using a loop will be more efficient."
   ]
  },
  {
   "cell_type": "code",
   "execution_count": 106,
   "id": "7954c8df-0708-4164-bc3b-e732d4ef8691",
   "metadata": {},
   "outputs": [
    {
     "name": "stdout",
     "output_type": "stream",
     "text": [
      "['const', 'eps', 'duration', 'watched', 'watching', 'years_running', 'mediaType_Movie', 'mediaType_Music Video', 'mediaType_OVA', 'mediaType_Other', 'mediaType_TV', 'mediaType_TV Special', 'mediaType_Web', 'contentWarn_Yes', 'studio_primary_J.C. Staff', 'studio_primary_MADHOUSE', 'studio_primary_OLM', 'studio_primary_Others', 'studio_primary_Studio Deen', 'studio_primary_Studio Pierrot', 'studio_primary_Sunrise', 'studio_primary_Toei Animation', 'genre_Adventure', 'genre_Comedy', 'genre_Drama']\n"
     ]
    }
   ],
   "source": [
    "# Initial list of columns\n",
    "predictors = X_train2.copy()\n",
    "cols = predictors.columns.tolist()\n",
    "\n",
    "# Setting an initial max p-value\n",
    "max_P_value = 1\n",
    "\n",
    "while len(cols) > 0:\n",
    "    # Defining the train set\n",
    "    X_train_aux = predictors[cols]\n",
    "    \n",
    "    # Fitting the model\n",
    "    model = sm.OLS(y_train, X_train_aux).fit()\n",
    "    \n",
    "    # Getting the p-values and the maximum p-value\n",
    "    p_values = model.pvalues\n",
    "    max_P_value = max(p_values)\n",
    "    \n",
    "    # Name of the variable with maximum p-value\n",
    "    feature_with_P_max = p_values.idxmax()\n",
    "    \n",
    "    if max_P_value > 0.05:\n",
    "        cols.remove(feature_with_P_max)\n",
    "    else:\n",
    "        break\n",
    "\n",
    "selected_features = cols\n",
    "print(selected_features)\n"
   ]
  },
  {
   "cell_type": "code",
   "execution_count": 108,
   "id": "915aa169-5e8f-47de-93de-3bee1bdb1b0e",
   "metadata": {},
   "outputs": [
    {
     "name": "stdout",
     "output_type": "stream",
     "text": [
      "                            OLS Regression Results                            \n",
      "==============================================================================\n",
      "Dep. Variable:                 rating   R-squared:                       0.718\n",
      "Model:                            OLS   Adj. R-squared:                  0.717\n",
      "Method:                 Least Squares   F-statistic:                     482.7\n",
      "Date:                Tue, 26 Nov 2024   Prob (F-statistic):               0.00\n",
      "Time:                        23:04:49   Log-Likelihood:                -2340.4\n",
      "No. Observations:                4566   AIC:                             4731.\n",
      "Df Residuals:                    4541   BIC:                             4891.\n",
      "Df Model:                          24                                         \n",
      "Covariance Type:            nonrobust                                         \n",
      "=================================================================================================\n",
      "                                    coef    std err          t      P>|t|      [0.025      0.975]\n",
      "-------------------------------------------------------------------------------------------------\n",
      "const                             2.7875      0.033     84.367      0.000       2.723       2.852\n",
      "eps                               0.0201      0.001     18.671      0.000       0.018       0.022\n",
      "duration                          0.0123      0.000     26.100      0.000       0.011       0.013\n",
      "watched                           0.0002   6.16e-06     31.750      0.000       0.000       0.000\n",
      "watching                          0.0031      0.000     19.918      0.000       0.003       0.003\n",
      "years_running                    -0.0762      0.009     -8.944      0.000      -0.093      -0.059\n",
      "mediaType_Movie                  -0.3078      0.032     -9.550      0.000      -0.371      -0.245\n",
      "mediaType_Music Video            -0.2987      0.030     -9.971      0.000      -0.357      -0.240\n",
      "mediaType_OVA                    -0.3016      0.030    -10.092      0.000      -0.360      -0.243\n",
      "mediaType_Other                  -0.2607      0.035     -7.548      0.000      -0.328      -0.193\n",
      "mediaType_TV                     -0.5598      0.033    -16.781      0.000      -0.625      -0.494\n",
      "mediaType_TV Special             -0.1816      0.039     -4.657      0.000      -0.258      -0.105\n",
      "mediaType_Web                    -0.4164      0.031    -13.523      0.000      -0.477      -0.356\n",
      "contentWarn_Yes                  -0.1786      0.020     -8.745      0.000      -0.219      -0.139\n",
      "studio_primary_J.C. Staff        -0.2017      0.041     -4.865      0.000      -0.283      -0.120\n",
      "studio_primary_MADHOUSE          -0.2532      0.043     -5.844      0.000      -0.338      -0.168\n",
      "studio_primary_OLM               -0.4121      0.052     -7.941      0.000      -0.514      -0.310\n",
      "studio_primary_Others            -0.2993      0.024    -12.445      0.000      -0.346      -0.252\n",
      "studio_primary_Studio Deen       -0.1657      0.048     -3.432      0.001      -0.260      -0.071\n",
      "studio_primary_Studio Pierrot    -0.2740      0.049     -5.591      0.000      -0.370      -0.178\n",
      "studio_primary_Sunrise           -0.1088      0.039     -2.815      0.005      -0.185      -0.033\n",
      "studio_primary_Toei Animation    -0.2325      0.034     -6.853      0.000      -0.299      -0.166\n",
      "genre_Adventure                  -0.0783      0.032     -2.467      0.014      -0.140      -0.016\n",
      "genre_Comedy                     -0.2271      0.052     -4.374      0.000      -0.329      -0.125\n",
      "genre_Drama                       0.2881      0.040      7.192      0.000       0.210       0.367\n",
      "==============================================================================\n",
      "Omnibus:                      143.175   Durbin-Watson:                   1.946\n",
      "Prob(Omnibus):                  0.000   Jarque-Bera (JB):               68.833\n",
      "Skew:                           0.052   Prob(JB):                     1.13e-15\n",
      "Kurtosis:                       2.407   Cond. No.                     2.81e+04\n",
      "==============================================================================\n",
      "\n",
      "Notes:\n",
      "[1] Standard Errors assume that the covariance matrix of the errors is correctly specified.\n",
      "[2] The condition number is large, 2.81e+04. This might indicate that there are\n",
      "strong multicollinearity or other numerical problems.\n"
     ]
    }
   ],
   "source": [
    "# Using selected features to create new train and test sets\n",
    "X_train3 = X_train2[selected_features]\n",
    "X_test3 = X_test2[selected_features]\n",
    "\n",
    "# Fitting the OLS model with the new training set\n",
    "olsmod2 = sm.OLS(y_train, X_train3).fit()\n",
    "print(olsmod2.summary())\n"
   ]
  },
  {
   "cell_type": "markdown",
   "id": "464998b7-726d-472d-8142-f8b91272a47b",
   "metadata": {},
   "source": [
    "#### Notes:\n",
    "#### [1] Standard Errors assume that the covariance matrix of the errors is correctly specified.\n",
    "#### [2] The condition number is large, 2.81e+04. This might indicate that there are strong multicollinearity or other numerical problems."
   ]
  },
  {
   "cell_type": "code",
   "execution_count": 111,
   "id": "ebd7beaa-e7ad-4212-96ae-86525d920d36",
   "metadata": {},
   "outputs": [
    {
     "name": "stdout",
     "output_type": "stream",
     "text": [
      "Training Performance\n",
      "\n",
      "      RMSE      MAE  R-squared\n",
      "0  0.40399  0.33291     0.7184\n"
     ]
    }
   ],
   "source": [
    "# Checking model performance on train set (seen 70% data)\n",
    "print(\"Training Performance\\n\")\n",
    "olsmod2_train_perf = model_performance_regression(olsmod2, X_train3, y_train)\n",
    "print(olsmod2_train_perf)\n"
   ]
  },
  {
   "cell_type": "code",
   "execution_count": 113,
   "id": "be2b9f2b-b5b1-4d7c-ae43-73ffed7b55b7",
   "metadata": {},
   "outputs": [
    {
     "name": "stdout",
     "output_type": "stream",
     "text": [
      "Test Performance\n",
      "\n",
      "       RMSE       MAE  R-squared\n",
      "0  0.414583  0.341345   0.700912\n"
     ]
    }
   ],
   "source": [
    "# Checking model performance on test set (seen 30% data)\n",
    "print(\"Test Performance\\n\")\n",
    "olsmod2_test_perf = model_performance_regression(olsmod2, X_test3, y_test)\n",
    "print(olsmod2_test_perf)\n"
   ]
  },
  {
   "cell_type": "markdown",
   "id": "1564b37c-1f12-4e9e-aee4-56fd3eff446c",
   "metadata": {},
   "source": [
    "#### Observations\n",
    "#### • Now no feature has p-value greater than 0.05, so we'll consider the features in x_train3 as the final set of predictor variables and olsmod2 as the final model to move forward with\n",
    "#### • Now adjusted R-squared is 0.717, i.e., our model is able to explain ~72% of the variance\n",
    "#### • The adjusted R-squared in olsmod1 (where we considered the variables without multicollinearity) was 0.717\n",
    "#### • This shows that the variables we dropped were not affecting the model\n",
    "#### • RMSE and MAE values are comparable for train and test sets, indicating that the model is not overfitting\n",
    "#### Now we'll check the rest of the assumptions on olsmod2.\n",
    "#### 2. Linearity of variables\n",
    "#### 3. Independence of error terms\n",
    "#### 4. Normality of error terms\n",
    "#### 5. No Heteroscedasticity"
   ]
  },
  {
   "cell_type": "markdown",
   "id": "8d5593f2-77b7-4a43-96ca-c058cd6a3821",
   "metadata": {},
   "source": [
    "# TEST FOR LINEARITY AND INDEPENDENCE"
   ]
  },
  {
   "cell_type": "markdown",
   "id": "a69d7b0b-cdc1-4aa3-a8a5-01e33889f264",
   "metadata": {},
   "source": [
    "### Why the test?\n",
    "#### • Linearity describes a straight-line relationship between two variables, predictor variables must have a linear relation with the dependent variable.\n",
    "#### • The independence of the error terms (or residuals) is important. If the residuals are not independent, then the confidence intervals of the coefficient estimates will be narrower and make us incorrectly conclude a parameter to be statistically significant.\n",
    "### How to check linearity and independence?\n",
    "#### • Make a plot of fitted values vs residuals.\n",
    "#### • If they don't follow any pattern, then we say the model is linear and residuals are independent.\n",
    "#### • Otherwise, the model is showing signs of non-linearity and residuals are not independent.\n",
    "### How to fix if this assumption is not followed?\n",
    "#### • We can try to transform the variables and make the relationships linear."
   ]
  },
  {
   "cell_type": "code",
   "execution_count": 119,
   "id": "e73cf466-9fea-4473-8c22-e66344f05205",
   "metadata": {},
   "outputs": [
    {
     "name": "stdout",
     "output_type": "stream",
     "text": [
      "      Actual Values  Fitted Values  Residuals\n",
      "5432          2.872       2.795321   0.076679\n",
      "5326          2.766       2.275887   0.490113\n",
      "1021          4.049       4.446845  -0.397845\n",
      "836           3.153       3.176604  -0.023604\n",
      "1396          2.167       2.265921  -0.098921\n"
     ]
    }
   ],
   "source": [
    "# Create a dataframe with actual, fitted, and residual values\n",
    "df_pred = pd.DataFrame()\n",
    "df_pred[\"Actual Values\"] = y_train  # actual values\n",
    "df_pred[\"Fitted Values\"] = olsmod2.fittedvalues  # predicted values\n",
    "df_pred[\"Residuals\"] = olsmod2.resid  # residuals\n",
    "print(df_pred.head())\n"
   ]
  },
  {
   "cell_type": "code",
   "execution_count": 121,
   "id": "1d79f8f6-25b6-447b-ab67-c644ad68af00",
   "metadata": {},
   "outputs": [
    {
     "data": {
      "image/png": "[encoded data removed]",
      "text/plain": [
       "<Figure size 640x480 with 1 Axes>"
      ]
     },
     "metadata": {},
     "output_type": "display_data"
    }
   ],
   "source": [
    "import seaborn as sns\n",
    "import matplotlib.pyplot as plt\n",
    "\n",
    "# Let's plot the fitted values vs residuals\n",
    "sns.residplot(data=df_pred, x=\"Fitted Values\", y=\"Residuals\", color=\"purple\", lowess=True)\n",
    "plt.xlabel(\"Fitted Values\")\n",
    "plt.ylabel(\"Residuals\")\n",
    "plt.title(\"Fitted vs Residual plot\")\n",
    "plt.show()\n"
   ]
  },
  {
   "cell_type": "markdown",
   "id": "057f0775-181b-4596-9b2c-8a6478d2157b",
   "metadata": {},
   "source": [
    "#### • The scatter plot shows the distribution of residuals (errors) vs fitted values (predicted values).\n",
    "#### • If there exist any pattern in this plot, we consider it as signs of non-linearity in the data and a pattern means that the model doesn't capture non-linear effects.\n",
    "#### • We see no pattern in the plot above. Hence, the assumptions of linearity and independence are satisfied.\n"
   ]
  },
  {
   "cell_type": "markdown",
   "id": "c73a2b94-74b8-4c5c-a461-7f716192180d",
   "metadata": {},
   "source": [
    "# Test For Normality"
   ]
  },
  {
   "cell_type": "markdown",
   "id": "0df16a6c-cce7-46b6-8a31-6813dda70588",
   "metadata": {},
   "source": [
    "#### Why the test?\n",
    "#### • Error terms, or residuals, should be normally distributed. If the error terms are not normally distributed, confidence intervals of the coefficient estimates may become too wide or narrow. Once confidence interval becomes unstable, it leads to difficulty in estimating coefficients based on minimization of least squares. Non-normality suggests that there are a few unusual data points that must be studied closely to make a better model.\n",
    "#### How to check normality?\n",
    "#### • The shape of the histogram of residuals can give an initial idea about the normality.\n",
    "#### • It can also be checked via a Q-Q plot of residuals. If the residuals follow a normal distribution, they will make a straight line plot, otherwise not.\n",
    "#### • Other tests to check for normality includes the Shapiro-Wilk test.\n",
    "#### • Null hypothesis: Residuals are normally distributed\n",
    "#### • Alternate hypothesis: Residuals are not normally distributed\n",
    "#### How to fix if this assumption is not followed?\n",
    "#### • We can apply transformations like log, exponential, arcsinh, etc. as per our data."
   ]
  },
  {
   "cell_type": "code",
   "execution_count": 126,
   "id": "f2d8cac8-1308-4fbc-ae1f-a52c4f63322d",
   "metadata": {},
   "outputs": [
    {
     "name": "stderr",
     "output_type": "stream",
     "text": [
      "/opt/anaconda3/lib/python3.11/site-packages/seaborn/_oldcore.py:1119: FutureWarning: use_inf_as_na option is deprecated and will be removed in a future version. Convert inf values to NaN before operating instead.\n",
      "  with pd.option_context('mode.use_inf_as_na', True):\n"
     ]
    },
    {
     "data": {
      "image/png": "[encoded data removed]",
      "text/plain": [
       "<Figure size 640x480 with 1 Axes>"
      ]
     },
     "metadata": {},
     "output_type": "display_data"
    }
   ],
   "source": [
    "import seaborn as sns\n",
    "import matplotlib.pyplot as plt\n",
    "\n",
    "# Plotting the histogram of residuals\n",
    "sns.histplot(data=df_pred, x=\"Residuals\", kde=True)\n",
    "plt.title(\"Normality of residuals\")\n",
    "plt.show()\n"
   ]
  },
  {
   "cell_type": "markdown",
   "id": "dd3f1673-586e-48a7-aaf9-08fbe9c3592f",
   "metadata": {},
   "source": [
    "#### • The histogram of residuals does have a bell shape.\n",
    "#### • Let's check the Q-Q plot."
   ]
  },
  {
   "cell_type": "code",
   "execution_count": 129,
   "id": "3e9e366a-6432-4c0b-9076-01e3322e7681",
   "metadata": {},
   "outputs": [
    {
     "data": {
      "image/png": "[encoded data removed]",
      "text/plain": [
       "<Figure size 640x480 with 1 Axes>"
      ]
     },
     "metadata": {},
     "output_type": "display_data"
    }
   ],
   "source": [
    "import pylab\n",
    "import scipy.stats as stats\n",
    "\n",
    "# Q-Q plot to check the normality of residuals\n",
    "stats.probplot(df_pred[\"Residuals\"], dist=\"norm\", plot=pylab)\n",
    "pylab.show()\n"
   ]
  },
  {
   "cell_type": "markdown",
   "id": "8d7ce792-43dc-4d5f-be8d-af3080be52c1",
   "metadata": {},
   "source": [
    "#### • The residuals more or less follow a straight line except for the tails.\n",
    "#### • Let's check the results of the Shapiro-Wilk test."
   ]
  },
  {
   "cell_type": "code",
   "execution_count": 132,
   "id": "7570314b-a903-4b8b-9c3f-1faedab201bc",
   "metadata": {},
   "outputs": [
    {
     "name": "stdout",
     "output_type": "stream",
     "text": [
      "Shapiro-Wilk Test:\n",
      "Test Statistic: 0.9934884905815125\n",
      "p-value: 1.4591795924768364e-13\n"
     ]
    }
   ],
   "source": [
    "from scipy.stats import shapiro\n",
    "\n",
    "# Perform the Shapiro-Wilk test on the residuals\n",
    "shapiro_test = shapiro(df_pred[\"Residuals\"])\n",
    "print(\"Shapiro-Wilk Test:\")\n",
    "print(\"Test Statistic:\", shapiro_test.statistic)\n",
    "print(\"p-value:\", shapiro_test.pvalue)\n"
   ]
  },
  {
   "cell_type": "markdown",
   "id": "b3016350-29bb-4b49-9130-02416b408711",
   "metadata": {},
   "source": [
    "#### • Since p-value < 0.05, the residuals are not normal as per the Shapiro-Wilk test.\n",
    "#### • Strictly speaking, the residuals are not normal.\n",
    "#### • However, as an approximation, we can accept this distribution as close to being normal.\n",
    "#### • So, the assumption is satisfied."
   ]
  },
  {
   "cell_type": "markdown",
   "id": "2018e64a-f1a8-46c7-ac39-1bca30a3be5d",
   "metadata": {},
   "source": [
    "# TEST FOR HOMOSCEDASTICITY  "
   ]
  },
  {
   "cell_type": "markdown",
   "id": "1867ee63-6b9a-4fbb-bfa8-7e8243c84868",
   "metadata": {},
   "source": [
    "#### • Homoscedascity: If the variance of the residuals is symmetrically distributed across the regression line, then the data is said to be homoscedastic.\n",
    "#### • Heteroscedascity: If the variance is unequal for the residuals across the regression line, then the data is said to be heteroscedastic.\n",
    "#### Why the test?\n",
    "#### • The presence of non-constant variance in the error terms results in heteroscedasticity. Generally, non-constant variance arises in presence of outliers.\n",
    "#### How to check for homoscedasticity?\n",
    "#### • The residual vs fitted values plot can be looked at to check for homoscedasticity. In the case of heteroscedasticity, the residuals can form an arrow shape or any other non-symmetrical shape.\n",
    "#### • The goldfeldquandt test can also be used. If we get a p-value > 0.05 we can say that the residuals are homoscedastic. Otherwise, they are heteroscedastic.\n",
    "#### • Null hypothesis: Residuals are homoscedastic\n",
    "#### • Alternate hypothesis: Residuals have heteroscedasticity\n",
    "#### How to fix if this assumption is not followed?\n",
    "#### • Heteroscedasticity can be fixed by adding other important features or making transformations."
   ]
  },
  {
   "cell_type": "code",
   "execution_count": 139,
   "id": "d45305df-7e7d-48fc-8363-915322542373",
   "metadata": {},
   "outputs": [
    {
     "name": "stdout",
     "output_type": "stream",
     "text": [
      "{'F statistic': 1.0484582413449557, 'p-value': 0.1304796784544968}\n"
     ]
    }
   ],
   "source": [
    "import statsmodels.stats.api as sms\n",
    "from statsmodels.compat import lzip\n",
    "\n",
    "# Define the names for the test statistics\n",
    "names = [\"F statistic\", \"p-value\"]\n",
    "\n",
    "# Perform the Goldfeld-Quandt test\n",
    "test = sms.het_goldfeldquandt(y_train, X_train3)\n",
    "\n",
    "# Print the results\n",
    "results = dict(lzip(names, test))\n",
    "print(results)\n"
   ]
  },
  {
   "cell_type": "markdown",
   "id": "9393101e-1cec-4071-b155-8b702ef672c6",
   "metadata": {},
   "source": [
    "#### Since p-value > 0.05, we can say that the residuals are homoscedastic. So, this assumption is satisfied."
   ]
  },
  {
   "cell_type": "markdown",
   "id": "51b8b1c4-7401-449b-a0bc-42f220c40cbc",
   "metadata": {},
   "source": [
    "# Predictions on test data\n",
    "\n"
   ]
  },
  {
   "cell_type": "markdown",
   "id": "a3bb9766-409f-4b34-8e33-770db1ded94b",
   "metadata": {},
   "source": [
    "#### Now that we have checked all the assumptions of linear regression and they are satisfied, let's go ahead with prediction."
   ]
  },
  {
   "cell_type": "code",
   "execution_count": 144,
   "id": "e154dbdf-7522-40b3-8066-56bd1ffe667f",
   "metadata": {},
   "outputs": [
    {
     "name": "stdout",
     "output_type": "stream",
     "text": [
      "      Actual  Predicted\n",
      "2023   2.039   2.262980\n",
      "4543   3.236   3.784680\n",
      "1914   2.314   2.323405\n",
      "4856   2.457   2.176779\n",
      "4405   2.322   2.331494\n",
      "5755   4.344   3.928340\n",
      "2341   2.858   2.279015\n",
      "1637   3.976   3.879616\n",
      "5730   3.728   3.588967\n",
      "1385   2.692   2.420355\n"
     ]
    }
   ],
   "source": [
    "# Predictions on the test set\n",
    "pred = olsmod2.predict(X_test3)\n",
    "\n",
    "# Creating a DataFrame with actual and predicted values\n",
    "df_pred_test = pd.DataFrame({\"Actual\": y_test, \"Predicted\": pred})\n",
    "\n",
    "# Sampling 10 random rows from the DataFrame\n",
    "print(df_pred_test.sample(10, random_state=1))\n"
   ]
  },
  {
   "cell_type": "markdown",
   "id": "19560a36-51df-4d0e-b306-a38ecb338e05",
   "metadata": {},
   "source": [
    "# Final Model"
   ]
  },
  {
   "cell_type": "markdown",
   "id": "9092f890-2e1d-4364-9503-acf7e3ffb0ec",
   "metadata": {},
   "source": [
    "#### Let's recreate the final model and print it's summary to gain insights."
   ]
  },
  {
   "cell_type": "code",
   "execution_count": 147,
   "id": "03bc0300-590e-48c6-8864-77c834be6e2d",
   "metadata": {},
   "outputs": [
    {
     "name": "stdout",
     "output_type": "stream",
     "text": [
      "                            OLS Regression Results                            \n",
      "==============================================================================\n",
      "Dep. Variable:                 rating   R-squared:                       0.718\n",
      "Model:                            OLS   Adj. R-squared:                  0.717\n",
      "Method:                 Least Squares   F-statistic:                     482.7\n",
      "Date:                Tue, 26 Nov 2024   Prob (F-statistic):               0.00\n",
      "Time:                        23:21:21   Log-Likelihood:                -2340.4\n",
      "No. Observations:                4566   AIC:                             4731.\n",
      "Df Residuals:                    4541   BIC:                             4891.\n",
      "Df Model:                          24                                         \n",
      "Covariance Type:            nonrobust                                         \n",
      "=================================================================================================\n",
      "                                    coef    std err          t      P>|t|      [0.025      0.975]\n",
      "-------------------------------------------------------------------------------------------------\n",
      "const                             2.7875      0.033     84.367      0.000       2.723       2.852\n",
      "eps                               0.0201      0.001     18.671      0.000       0.018       0.022\n",
      "duration                          0.0123      0.000     26.100      0.000       0.011       0.013\n",
      "watched                           0.0002   6.16e-06     31.750      0.000       0.000       0.000\n",
      "watching                          0.0031      0.000     19.918      0.000       0.003       0.003\n",
      "years_running                    -0.0762      0.009     -8.944      0.000      -0.093      -0.059\n",
      "mediaType_Movie                  -0.3078      0.032     -9.550      0.000      -0.371      -0.245\n",
      "mediaType_Music Video            -0.2987      0.030     -9.971      0.000      -0.357      -0.240\n",
      "mediaType_OVA                    -0.3016      0.030    -10.092      0.000      -0.360      -0.243\n",
      "mediaType_Other                  -0.2607      0.035     -7.548      0.000      -0.328      -0.193\n",
      "mediaType_TV                     -0.5598      0.033    -16.781      0.000      -0.625      -0.494\n",
      "mediaType_TV Special             -0.1816      0.039     -4.657      0.000      -0.258      -0.105\n",
      "mediaType_Web                    -0.4164      0.031    -13.523      0.000      -0.477      -0.356\n",
      "contentWarn_Yes                  -0.1786      0.020     -8.745      0.000      -0.219      -0.139\n",
      "studio_primary_J.C. Staff        -0.2017      0.041     -4.865      0.000      -0.283      -0.120\n",
      "studio_primary_MADHOUSE          -0.2532      0.043     -5.844      0.000      -0.338      -0.168\n",
      "studio_primary_OLM               -0.4121      0.052     -7.941      0.000      -0.514      -0.310\n",
      "studio_primary_Others            -0.2993      0.024    -12.445      0.000      -0.346      -0.252\n",
      "studio_primary_Studio Deen       -0.1657      0.048     -3.432      0.001      -0.260      -0.071\n",
      "studio_primary_Studio Pierrot    -0.2740      0.049     -5.591      0.000      -0.370      -0.178\n",
      "studio_primary_Sunrise           -0.1088      0.039     -2.815      0.005      -0.185      -0.033\n",
      "studio_primary_Toei Animation    -0.2325      0.034     -6.853      0.000      -0.299      -0.166\n",
      "genre_Adventure                  -0.0783      0.032     -2.467      0.014      -0.140      -0.016\n",
      "genre_Comedy                     -0.2271      0.052     -4.374      0.000      -0.329      -0.125\n",
      "genre_Drama                       0.2881      0.040      7.192      0.000       0.210       0.367\n",
      "==============================================================================\n",
      "Omnibus:                      143.175   Durbin-Watson:                   1.946\n",
      "Prob(Omnibus):                  0.000   Jarque-Bera (JB):               68.833\n",
      "Skew:                           0.052   Prob(JB):                     1.13e-15\n",
      "Kurtosis:                       2.407   Cond. No.                     2.81e+04\n",
      "==============================================================================\n",
      "\n",
      "Notes:\n",
      "[1] Standard Errors assume that the covariance matrix of the errors is correctly specified.\n",
      "[2] The condition number is large, 2.81e+04. This might indicate that there are\n",
      "strong multicollinearity or other numerical problems.\n"
     ]
    }
   ],
   "source": [
    "# Final training and testing sets\n",
    "X_train_final = X_train3.copy()\n",
    "X_test_final = X_test3.copy()\n",
    "\n",
    "# Fit the final OLS model\n",
    "olsmodel_final = sm.OLS(y_train, X_train_final).fit()\n",
    "print(olsmodel_final.summary())\n"
   ]
  }
 ],
 "metadata": {
  "kernelspec": {
   "display_name": "Python 3 (ipykernel)",
   "language": "python",
   "name": "python3"
  },
  "language_info": {
   "codemirror_mode": {
    "name": "ipython",
    "version": 3
   },
   "file_extension": ".py",
   "mimetype": "text/x-python",
   "name": "python",
   "nbconvert_exporter": "python",
   "pygments_lexer": "ipython3",
   "version": "3.11.7"
  }
 },
 "nbformat": 4,
 "nbformat_minor": 5
}
